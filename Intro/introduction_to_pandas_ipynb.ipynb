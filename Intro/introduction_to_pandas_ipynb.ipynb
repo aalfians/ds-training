{
  "nbformat": 4,
  "nbformat_minor": 2,
  "metadata": {
    "kernelspec": {
      "name": "python3",
      "display_name": "Python 3.7.6 64-bit ('base': conda)"
    },
    "language_info": {
      "codemirror_mode": {
        "name": "ipython",
        "version": 3
      },
      "file_extension": ".py",
      "mimetype": "text/x-python",
      "name": "python",
      "nbconvert_exporter": "python",
      "pygments_lexer": "ipython3",
      "version": "3.7.6"
    },
    "colab": {
      "name": "introduction-to-pandas.ipynb.txt",
      "provenance": []
    },
    "interpreter": {
      "hash": "b3ba2566441a7c06988d0923437866b63cedc61552a5af99d1f4fb67d367b25f"
    }
  },
  "cells": [
    {
      "cell_type": "markdown",
      "source": [
        "# pandas\r\n",
        "\r\n",
        "Salah satu objektif dari penelitian ini adalah memberikan pengetahuan dan kemampuan kepada para peserta untuk menggunakan `pandas` sebagai tools dalam menangani data terstruktur, dimana `pandas` dirancang untuk keperluan tersebut. Dalam praktik keseharia\r\n",
        "\r\n",
        "\r\n",
        "`pandas` is designed to make it easier to work with structured data. Most of the analyses you might perform will likely involve using tabular data, e.g., from .csv files or relational databases (e.g., SQL). The `DataFrame` object in `pandas` is \"a two-dimensional tabular, column-oriented data structure with both row and column labels.\"\r\n",
        "\r\n",
        "If you're curious:\r\n",
        "\r\n",
        ">The `pandas` name itself is derived from *panel data*, an econometrics term for multidimensional structured data sets, and *Python data analysis* itself. After getting introduced, you can consult the full [`pandas` documentation](http://pandas.pydata.org/pandas-docs/stable/).\r\n",
        "\r\n",
        "To motivate this workshop, we'll work with example data and go through the various steps you might need to prepare data for analysis. You'll (hopefully) realize that doing this type of work is much more difficult using Python's built-in data structures."
      ],
      "metadata": {
        "id": "x0_Yo_TVAVks"
      }
    },
    {
      "cell_type": "markdown",
      "source": [
        "### Table of Contents\r\n",
        "\r\n",
        "1 - [The DataFrame](#section1)<br>\r\n",
        "2 - [Rename, Index, and Slice](#section2)<br>\r\n",
        "3 - [Manipulating Columns](#section3)<br>\r\n",
        "4 - [Merging](#section4)<br>\r\n",
        "5 - [Calculating Unique And Missing Values](#section5)<br>\r\n",
        "6 - [Groupby](#section6)<br>\r\n",
        "7- [Exporting To CSV](#section7)<br>\r\n",
        "8 - [Handling Missing Values (Boolean Indexing)](#section8)<br>\r\n",
        "9 - [Sorting Values](#section9)<br>\r\n",
        "10 - [Plotting In Pandas](#section10)<br>"
      ],
      "metadata": {
        "id": "86ZN0IJjAVkv"
      }
    },
    {
      "cell_type": "markdown",
      "source": [
        "## 1. The DataFrame: Importing Data and Summary Statistics <a id=\"section1\"/>\n",
        "The data used in these examples is available in the following [GitHub repository](https://github.com/dlab-berkeley/introduction-to-pandas). If you've [cloned that repo](https://www.atlassian.com/git/tutorials/setting-up-a-repository/git-clone), which is the recommended approach, you'll have everything you need to run this notebook. Otherwise, you can download the data file(s) from the above link. (Note: this notebook assumes that the data files are in a directory named `data/` found within your current working directory.)\n",
        "\n",
        "For this example, we're working with European unemployment data from Eurostat, which is hosted by [Google](https://code.google.com/p/dspl/downloads/list). There are several .csv files that we'll work with in this workshop.\n",
        "\n",
        "Let's begin by importing `pandas` using the conventional abbreviation."
      ],
      "metadata": {
        "id": "ysmrF8EYAVkw"
      }
    },
    {
      "cell_type": "code",
      "execution_count": 1,
      "source": [
        "%matplotlib inline\r\n",
        "\r\n",
        "import pandas as pd\r\n",
        "import matplotlib as mpl\r\n",
        "import matplotlib.pyplot as plt\r\n",
        "\r\n",
        "mpl.rc('savefig', dpi=200)\r\n",
        "plt.style.use('ggplot')\r\n",
        "plt.rcParams['xtick.minor.size'] = 0\r\n",
        "plt.rcParams['ytick.minor.size'] = 0"
      ],
      "outputs": [],
      "metadata": {
        "id": "1pKrKVo2AVkw"
      }
    },
    {
      "cell_type": "markdown",
      "source": [
        "The `read_csv()` function in `pandas` allows us to easily import our data. By default, it assumes the data is comma-delimited. However, you can specify the delimiter used in your data (e.g., tab, semicolon, pipe, etc.). There are several parameters that you can specify. See the documentation [here](http://pandas.pydata.org/pandas-docs/stable/generated/pandas.read_csv.html). `read_csv()` returns a `DataFrame`.\n",
        "\n",
        "Notice that we call `read_csv()` using the `pd` abbreviation from the import statement above."
      ],
      "metadata": {
        "id": "ajkJKR1nAVkx"
      }
    },
    {
      "cell_type": "code",
      "execution_count": 2,
      "source": [
        "#koreksi ini\r\n",
        "unemployment = pd.read_csv('data/country_total.csv')"
      ],
      "outputs": [],
      "metadata": {
        "colab": {
          "base_uri": "https://localhost:8080/"
        },
        "id": "jvWT3iqEAVkx",
        "outputId": "3cfcce5d-f29a-466d-cb17-06a4ddb8baa7"
      }
    },
    {
      "cell_type": "markdown",
      "source": [
        "Great! You've created a `pandas` `DataFrame`. We can look at our data by using the `.head()` method. By default, this shows the header (column names) and the first five rows. Passing an integer, $n$, to `.head()` returns that number of rows. To see the last $n$ rows, use `.tail()`."
      ],
      "metadata": {
        "id": "H788eN1yAVky"
      }
    },
    {
      "cell_type": "code",
      "execution_count": 3,
      "source": [
        "unemployment.head()"
      ],
      "outputs": [
        {
          "output_type": "execute_result",
          "data": {
            "text/plain": [
              "  country seasonality    month  unemployment  unemployment_rate\n",
              "0      at         nsa  1993.01        171000                4.5\n",
              "1      at         nsa  1993.02        175000                4.6\n",
              "2      at         nsa  1993.03        166000                4.4\n",
              "3      at         nsa  1993.04        157000                4.1\n",
              "4      at         nsa  1993.05        147000                3.9"
            ],
            "text/html": [
              "<div>\n",
              "<style scoped>\n",
              "    .dataframe tbody tr th:only-of-type {\n",
              "        vertical-align: middle;\n",
              "    }\n",
              "\n",
              "    .dataframe tbody tr th {\n",
              "        vertical-align: top;\n",
              "    }\n",
              "\n",
              "    .dataframe thead th {\n",
              "        text-align: right;\n",
              "    }\n",
              "</style>\n",
              "<table border=\"1\" class=\"dataframe\">\n",
              "  <thead>\n",
              "    <tr style=\"text-align: right;\">\n",
              "      <th></th>\n",
              "      <th>country</th>\n",
              "      <th>seasonality</th>\n",
              "      <th>month</th>\n",
              "      <th>unemployment</th>\n",
              "      <th>unemployment_rate</th>\n",
              "    </tr>\n",
              "  </thead>\n",
              "  <tbody>\n",
              "    <tr>\n",
              "      <th>0</th>\n",
              "      <td>at</td>\n",
              "      <td>nsa</td>\n",
              "      <td>1993.01</td>\n",
              "      <td>171000</td>\n",
              "      <td>4.5</td>\n",
              "    </tr>\n",
              "    <tr>\n",
              "      <th>1</th>\n",
              "      <td>at</td>\n",
              "      <td>nsa</td>\n",
              "      <td>1993.02</td>\n",
              "      <td>175000</td>\n",
              "      <td>4.6</td>\n",
              "    </tr>\n",
              "    <tr>\n",
              "      <th>2</th>\n",
              "      <td>at</td>\n",
              "      <td>nsa</td>\n",
              "      <td>1993.03</td>\n",
              "      <td>166000</td>\n",
              "      <td>4.4</td>\n",
              "    </tr>\n",
              "    <tr>\n",
              "      <th>3</th>\n",
              "      <td>at</td>\n",
              "      <td>nsa</td>\n",
              "      <td>1993.04</td>\n",
              "      <td>157000</td>\n",
              "      <td>4.1</td>\n",
              "    </tr>\n",
              "    <tr>\n",
              "      <th>4</th>\n",
              "      <td>at</td>\n",
              "      <td>nsa</td>\n",
              "      <td>1993.05</td>\n",
              "      <td>147000</td>\n",
              "      <td>3.9</td>\n",
              "    </tr>\n",
              "  </tbody>\n",
              "</table>\n",
              "</div>"
            ]
          },
          "metadata": {},
          "execution_count": 3
        }
      ],
      "metadata": {
        "colab": {
          "base_uri": "https://localhost:8080/",
          "height": 198
        },
        "id": "qlC-3HwqAVky",
        "outputId": "172b2b63-689b-4e3b-e45c-a87543d1ff8f"
      }
    },
    {
      "cell_type": "markdown",
      "source": [
        "To find the number of rows, you can use the `len()` function. Alternatively, you can use the `shape` attribute."
      ],
      "metadata": {
        "id": "Fz2U6ZjTAVky"
      }
    },
    {
      "cell_type": "code",
      "execution_count": 6,
      "source": [
        "unemployment.shape"
      ],
      "outputs": [
        {
          "output_type": "execute_result",
          "data": {
            "text/plain": [
              "(20796, 5)"
            ]
          },
          "metadata": {},
          "execution_count": 6
        }
      ],
      "metadata": {
        "colab": {
          "base_uri": "https://localhost:8080/"
        },
        "id": "0LM-L4XBAVk0",
        "outputId": "8a9ee14c-c241-440f-b09c-263f6b915f83"
      }
    },
    {
      "cell_type": "markdown",
      "source": [
        "There are 20,796 rows and 5 columns.\n",
        "\n",
        "A useful method that generates various summary statistics is `.describe()`."
      ],
      "metadata": {
        "id": "Fog16QdzAVk0"
      }
    },
    {
      "cell_type": "code",
      "execution_count": 7,
      "source": [
        "unemployment.describe()"
      ],
      "outputs": [
        {
          "output_type": "execute_result",
          "data": {
            "text/plain": [
              "              month  unemployment  unemployment_rate\n",
              "count  20796.000000  2.079600e+04       19851.000000\n",
              "mean    1999.401290  7.900818e+05           8.179764\n",
              "std        7.483751  1.015280e+06           3.922533\n",
              "min     1983.010000  2.000000e+03           1.100000\n",
              "25%     1994.090000  1.400000e+05           5.200000\n",
              "50%     2001.010000  3.100000e+05           7.600000\n",
              "75%     2006.010000  1.262250e+06          10.000000\n",
              "max     2010.120000  4.773000e+06          20.900000"
            ],
            "text/html": [
              "<div>\n",
              "<style scoped>\n",
              "    .dataframe tbody tr th:only-of-type {\n",
              "        vertical-align: middle;\n",
              "    }\n",
              "\n",
              "    .dataframe tbody tr th {\n",
              "        vertical-align: top;\n",
              "    }\n",
              "\n",
              "    .dataframe thead th {\n",
              "        text-align: right;\n",
              "    }\n",
              "</style>\n",
              "<table border=\"1\" class=\"dataframe\">\n",
              "  <thead>\n",
              "    <tr style=\"text-align: right;\">\n",
              "      <th></th>\n",
              "      <th>month</th>\n",
              "      <th>unemployment</th>\n",
              "      <th>unemployment_rate</th>\n",
              "    </tr>\n",
              "  </thead>\n",
              "  <tbody>\n",
              "    <tr>\n",
              "      <th>count</th>\n",
              "      <td>20796.000000</td>\n",
              "      <td>2.079600e+04</td>\n",
              "      <td>19851.000000</td>\n",
              "    </tr>\n",
              "    <tr>\n",
              "      <th>mean</th>\n",
              "      <td>1999.401290</td>\n",
              "      <td>7.900818e+05</td>\n",
              "      <td>8.179764</td>\n",
              "    </tr>\n",
              "    <tr>\n",
              "      <th>std</th>\n",
              "      <td>7.483751</td>\n",
              "      <td>1.015280e+06</td>\n",
              "      <td>3.922533</td>\n",
              "    </tr>\n",
              "    <tr>\n",
              "      <th>min</th>\n",
              "      <td>1983.010000</td>\n",
              "      <td>2.000000e+03</td>\n",
              "      <td>1.100000</td>\n",
              "    </tr>\n",
              "    <tr>\n",
              "      <th>25%</th>\n",
              "      <td>1994.090000</td>\n",
              "      <td>1.400000e+05</td>\n",
              "      <td>5.200000</td>\n",
              "    </tr>\n",
              "    <tr>\n",
              "      <th>50%</th>\n",
              "      <td>2001.010000</td>\n",
              "      <td>3.100000e+05</td>\n",
              "      <td>7.600000</td>\n",
              "    </tr>\n",
              "    <tr>\n",
              "      <th>75%</th>\n",
              "      <td>2006.010000</td>\n",
              "      <td>1.262250e+06</td>\n",
              "      <td>10.000000</td>\n",
              "    </tr>\n",
              "    <tr>\n",
              "      <th>max</th>\n",
              "      <td>2010.120000</td>\n",
              "      <td>4.773000e+06</td>\n",
              "      <td>20.900000</td>\n",
              "    </tr>\n",
              "  </tbody>\n",
              "</table>\n",
              "</div>"
            ]
          },
          "metadata": {},
          "execution_count": 7
        }
      ],
      "metadata": {
        "colab": {
          "base_uri": "https://localhost:8080/",
          "height": 288
        },
        "id": "kybh37fqAVk1",
        "outputId": "b524ef03-5eab-4aca-f944-5d4e5413d130"
      }
    },
    {
      "cell_type": "markdown",
      "source": [
        "You may have noticed that the \"count\" is lower for the unemployment rate. This is because the summary statistics are based on *non-missing* values and count reflects that.\n",
        "\n",
        "The values depend on what it's called on. If the `DataFrame` includes both numeric and object (e.g., strings) `dtype`s, it will default to summarizing the numeric data. If `.describe()` is called on strings, for example, it will return the count, number of unique values, and the most frequent value along with its count."
      ],
      "metadata": {
        "id": "VmTzjGf-AVk1"
      }
    },
    {
      "cell_type": "markdown",
      "source": [
        "### Challenge 1: Import Data From A URL\n",
        "\n",
        "Above, we imported the unemployment data using the `read_csv` function and a relative file path. `read_csv` is [a very flexible method](https://pandas.pydata.org/pandas-docs/version/0.23/generated/pandas.read_csv.html); it also allows us to import data using a URL as the file path. \n",
        "\n",
        "A csv file with data on world countries and their abbreviations is located at [https://raw.githubusercontent.com/dlab-berkeley/introduction-to-pandas/master/data/countries.csv](https://raw.githubusercontent.com/dlab-berkeley/introduction-to-pandas/master/data/countries.csv) (saved as a string variable `countries_url` below).\n",
        "\n",
        "Using `read_csv`, import the country data and save it to the variable `countries`."
      ],
      "metadata": {
        "id": "JMdPBW6hAVk1"
      }
    },
    {
      "cell_type": "code",
      "execution_count": null,
      "source": [
        "countries_url = 'https://raw.githubusercontent.com/dlab-berkeley/introduction-to-pandas/master/data/countries.csv'\r\n",
        "countries = ..."
      ],
      "outputs": [],
      "metadata": {
        "id": "YJK9-yh9AVk2"
      }
    },
    {
      "cell_type": "markdown",
      "source": [
        "### Challenge 2: The `tail` method\n",
        "\n",
        "DataFrames all have a method called `tail` that takes an integer as an argument and returns a new DataFrame. Before using `tail`, can you guess at what it does? Try using `tail`; was your guess correct?"
      ],
      "metadata": {
        "id": "wHaeRJmoAVk2"
      }
    },
    {
      "cell_type": "code",
      "execution_count": null,
      "source": [
        "# use the tail method on either the unemployment or countries dataframe\r\n"
      ],
      "outputs": [],
      "metadata": {
        "id": "R7NIuaziAVk3"
      }
    },
    {
      "cell_type": "markdown",
      "source": [
        "### Challenge 3: Describe `countries`\n",
        "\n",
        "It's important to understand a few fundamentals about your data before you start work with it, including what information it contains, how large it is, and how the values are generally distributed.\n",
        "\n",
        "Using the methods and attributes above, answer the following questions about `countries`:\n",
        "* what columns does it contain?\n",
        "* what does each row stand for?\n",
        "* how many rows and columns does it contain?\n",
        "* are there any missing values in the latitude or longitude columns? \n",
        "\n",
        "Hint: the `head` and `describe` functions, as well as the `shape` attribute, will be helpful here."
      ],
      "metadata": {
        "id": "B8_qh6NAAVk3"
      }
    },
    {
      "cell_type": "code",
      "execution_count": null,
      "source": [
        "# explore the countries data\r\n"
      ],
      "outputs": [],
      "metadata": {
        "id": "_oSqBfVkAVk3"
      }
    },
    {
      "cell_type": "markdown",
      "source": [
        "**YOUR ANSWER HERE**"
      ],
      "metadata": {
        "id": "kwN8TtH7AVk4"
      }
    },
    {
      "cell_type": "markdown",
      "source": [
        "## 2. Rename, Index, and Slice <a id=\"section2\"/>\n",
        "Back to the entire unemployment data set. You may have noticed that the `month` column also includes the year. Let's go ahead and rename it."
      ],
      "metadata": {
        "id": "K1eF-wvCAVk4"
      }
    },
    {
      "cell_type": "code",
      "execution_count": null,
      "source": [
        "unemployment.rename(columns={'month' : 'year_month'}, inplace=True)"
      ],
      "outputs": [],
      "metadata": {
        "id": "0fjTTLJTAVk4"
      }
    },
    {
      "cell_type": "markdown",
      "source": [
        "The `.rename()` method allows you to modify index labels and/or column names. As you can see, we passed a `dict` to the `columns` parameter, with the original name as the key and the new name as the value. Importantly, we also set the `inplace` parameter to `True`, which modifies the *actual* `DataFrame`, not a copy of it.\n",
        "\n",
        "It might also make sense to separate the data in `year_month` into two separate columns. To do this, you'll need to know how to select a single column. We can either use bracket (`[]`) or dot notation (referred to as *attribute access*)."
      ],
      "metadata": {
        "id": "icjZGlzMAVk5"
      }
    },
    {
      "cell_type": "code",
      "execution_count": null,
      "source": [
        "unemployment['year_month'].head()"
      ],
      "outputs": [
        {
          "output_type": "execute_result",
          "data": {
            "text/plain": [
              "0    1993.01\n",
              "1    1993.02\n",
              "2    1993.03\n",
              "3    1993.04\n",
              "4    1993.05\n",
              "Name: year_month, dtype: float64"
            ]
          },
          "metadata": {
            "tags": []
          },
          "execution_count": 13
        }
      ],
      "metadata": {
        "colab": {
          "base_uri": "https://localhost:8080/"
        },
        "id": "vDstHyRfAVk5",
        "outputId": "bee7c6f5-53fa-45cf-a66b-216d4d23f04f"
      }
    },
    {
      "cell_type": "code",
      "execution_count": null,
      "source": [
        "unemployment.year_month.head()"
      ],
      "outputs": [
        {
          "output_type": "execute_result",
          "data": {
            "text/plain": [
              "0    1993.01\n",
              "1    1993.02\n",
              "2    1993.03\n",
              "3    1993.04\n",
              "4    1993.05\n",
              "Name: year_month, dtype: float64"
            ]
          },
          "metadata": {
            "tags": []
          },
          "execution_count": 14
        }
      ],
      "metadata": {
        "colab": {
          "base_uri": "https://localhost:8080/"
        },
        "id": "lkxeOt4DAVk5",
        "outputId": "86166418-55d3-4df8-9981-98252a60b070"
      }
    },
    {
      "cell_type": "markdown",
      "source": [
        "It is preferrable to use the bracket notation as a column name might inadvertently have the same name as a `DataFrame` (or `Series`) method. In addition, only bracket notation can be used to create a new column. If you try and use attribute access to create a new column, you'll create a new attribute, *not* a new column.\n",
        "\n",
        "When selecting a single column, we have a `pandas` `Series` object, which is a single vector of data (e.g., a NumPy array) with \"an associated array of data labels, called its *index*.\" A `DataFrame` also has an index. In our example, the indices are an array of sequential integers, which is the default. You can find them in the left-most position, without a column label.\n",
        "\n",
        "Indices need not be a sequence of integers. They can, for example, be dates or strings. Note that indices do *not* need to be unique.\n",
        "\n",
        "Indices, like column names, can be used to select data. Indices can be used to select particular rows. In fact, you can do something like `.head()` with slicing using the `[]` operator."
      ],
      "metadata": {
        "id": "mlvXyTsZAVk6"
      }
    },
    {
      "cell_type": "code",
      "execution_count": null,
      "source": [
        "unemployment[:5]"
      ],
      "outputs": [
        {
          "output_type": "execute_result",
          "data": {
            "text/plain": [
              "  country seasonality  year_month  unemployment  unemployment_rate\n",
              "0      at         nsa     1993.01        171000                4.5\n",
              "1      at         nsa     1993.02        175000                4.6\n",
              "2      at         nsa     1993.03        166000                4.4\n",
              "3      at         nsa     1993.04        157000                4.1\n",
              "4      at         nsa     1993.05        147000                3.9"
            ],
            "text/html": [
              "<div>\n",
              "<style scoped>\n",
              "    .dataframe tbody tr th:only-of-type {\n",
              "        vertical-align: middle;\n",
              "    }\n",
              "\n",
              "    .dataframe tbody tr th {\n",
              "        vertical-align: top;\n",
              "    }\n",
              "\n",
              "    .dataframe thead th {\n",
              "        text-align: right;\n",
              "    }\n",
              "</style>\n",
              "<table border=\"1\" class=\"dataframe\">\n",
              "  <thead>\n",
              "    <tr style=\"text-align: right;\">\n",
              "      <th></th>\n",
              "      <th>country</th>\n",
              "      <th>seasonality</th>\n",
              "      <th>year_month</th>\n",
              "      <th>unemployment</th>\n",
              "      <th>unemployment_rate</th>\n",
              "    </tr>\n",
              "  </thead>\n",
              "  <tbody>\n",
              "    <tr>\n",
              "      <th>0</th>\n",
              "      <td>at</td>\n",
              "      <td>nsa</td>\n",
              "      <td>1993.01</td>\n",
              "      <td>171000</td>\n",
              "      <td>4.5</td>\n",
              "    </tr>\n",
              "    <tr>\n",
              "      <th>1</th>\n",
              "      <td>at</td>\n",
              "      <td>nsa</td>\n",
              "      <td>1993.02</td>\n",
              "      <td>175000</td>\n",
              "      <td>4.6</td>\n",
              "    </tr>\n",
              "    <tr>\n",
              "      <th>2</th>\n",
              "      <td>at</td>\n",
              "      <td>nsa</td>\n",
              "      <td>1993.03</td>\n",
              "      <td>166000</td>\n",
              "      <td>4.4</td>\n",
              "    </tr>\n",
              "    <tr>\n",
              "      <th>3</th>\n",
              "      <td>at</td>\n",
              "      <td>nsa</td>\n",
              "      <td>1993.04</td>\n",
              "      <td>157000</td>\n",
              "      <td>4.1</td>\n",
              "    </tr>\n",
              "    <tr>\n",
              "      <th>4</th>\n",
              "      <td>at</td>\n",
              "      <td>nsa</td>\n",
              "      <td>1993.05</td>\n",
              "      <td>147000</td>\n",
              "      <td>3.9</td>\n",
              "    </tr>\n",
              "  </tbody>\n",
              "</table>\n",
              "</div>"
            ]
          },
          "metadata": {
            "tags": []
          },
          "execution_count": 15
        }
      ],
      "metadata": {
        "colab": {
          "base_uri": "https://localhost:8080/"
        },
        "id": "HCbb9n3eAVk8",
        "outputId": "510c7c90-6468-4926-dfa9-5dab3ff76b65"
      }
    },
    {
      "cell_type": "markdown",
      "source": [
        "Before we continue, let's look at a few useful ways to index data&mdash;that is, select rows.\n",
        "\n",
        "`.loc` primarily works with string labels. It accepts a single label, a list (or array) of labels, or a slice of labels (e.g., `'a' : 'f'`).\n",
        "\n",
        "Let's create a `DataFrame` to see how this works. (This is based on an [example](https://github.com/fonnesbeck/scipy2015_tutorial/blob/master/notebooks/1.%20Data%20Preparation.ipynb) from Chris Fonnesbeck's [Computational Statistics II Tutorial](https://github.com/fonnesbeck/scipy2015_tutorial).)"
      ],
      "metadata": {
        "id": "htTDkzoIAVk9"
      }
    },
    {
      "cell_type": "code",
      "execution_count": null,
      "source": [
        "bacteria = pd.DataFrame({'bacteria_counts' : [632, 1638, 569, 115],\r\n",
        "                         'other_feature' : [438, 833, 234, 298]},\r\n",
        "                         index=['Firmicutes', 'Proteobacteria', 'Actinobacteria', 'Bacteroidetes'])"
      ],
      "outputs": [],
      "metadata": {
        "id": "zNePbsEXAVk9"
      }
    },
    {
      "cell_type": "markdown",
      "source": [
        "Notice that we pass in a `dict`, where the keys correspond to column names and the values to the data. In this example, we've also set the indices&mdash;strings in this case&mdash;to be the taxon of each bacterium."
      ],
      "metadata": {
        "id": "kphzjuL-AVk9"
      }
    },
    {
      "cell_type": "code",
      "execution_count": null,
      "source": [
        "bacteria"
      ],
      "outputs": [
        {
          "output_type": "execute_result",
          "data": {
            "text/plain": [
              "                bacteria_counts  other_feature\n",
              "Firmicutes                  632            438\n",
              "Proteobacteria             1638            833\n",
              "Actinobacteria              569            234\n",
              "Bacteroidetes               115            298"
            ],
            "text/html": [
              "<div>\n",
              "<style scoped>\n",
              "    .dataframe tbody tr th:only-of-type {\n",
              "        vertical-align: middle;\n",
              "    }\n",
              "\n",
              "    .dataframe tbody tr th {\n",
              "        vertical-align: top;\n",
              "    }\n",
              "\n",
              "    .dataframe thead th {\n",
              "        text-align: right;\n",
              "    }\n",
              "</style>\n",
              "<table border=\"1\" class=\"dataframe\">\n",
              "  <thead>\n",
              "    <tr style=\"text-align: right;\">\n",
              "      <th></th>\n",
              "      <th>bacteria_counts</th>\n",
              "      <th>other_feature</th>\n",
              "    </tr>\n",
              "  </thead>\n",
              "  <tbody>\n",
              "    <tr>\n",
              "      <th>Firmicutes</th>\n",
              "      <td>632</td>\n",
              "      <td>438</td>\n",
              "    </tr>\n",
              "    <tr>\n",
              "      <th>Proteobacteria</th>\n",
              "      <td>1638</td>\n",
              "      <td>833</td>\n",
              "    </tr>\n",
              "    <tr>\n",
              "      <th>Actinobacteria</th>\n",
              "      <td>569</td>\n",
              "      <td>234</td>\n",
              "    </tr>\n",
              "    <tr>\n",
              "      <th>Bacteroidetes</th>\n",
              "      <td>115</td>\n",
              "      <td>298</td>\n",
              "    </tr>\n",
              "  </tbody>\n",
              "</table>\n",
              "</div>"
            ]
          },
          "metadata": {
            "tags": []
          },
          "execution_count": 17
        }
      ],
      "metadata": {
        "colab": {
          "base_uri": "https://localhost:8080/"
        },
        "id": "d41hsXfPAVk-",
        "outputId": "290cca8f-014e-41e4-9415-e019baaf2ce4"
      }
    },
    {
      "cell_type": "markdown",
      "source": [
        "Now, if we're interested in the values (row) associated with \"Actinobacteria,\" we can use `.loc` and the index name."
      ],
      "metadata": {
        "id": "Ggj7tVtFAVk_"
      }
    },
    {
      "cell_type": "code",
      "execution_count": null,
      "source": [
        "bacteria.loc['Actinobacteria']"
      ],
      "outputs": [
        {
          "output_type": "execute_result",
          "data": {
            "text/plain": [
              "bacteria_counts    569\n",
              "other_feature      234\n",
              "Name: Actinobacteria, dtype: int64"
            ]
          },
          "metadata": {
            "tags": []
          },
          "execution_count": 18
        }
      ],
      "metadata": {
        "colab": {
          "base_uri": "https://localhost:8080/"
        },
        "id": "4CYRMrpKAVk_",
        "outputId": "8c00373f-2de0-411d-da80-209dc65a0f42"
      }
    },
    {
      "cell_type": "markdown",
      "source": [
        "This returns the column values for the specified row. Interestingly, we could have also used \"positional indexing,\" even though the indices are strings."
      ],
      "metadata": {
        "id": "WxRn1avuAVlA"
      }
    },
    {
      "cell_type": "code",
      "execution_count": null,
      "source": [
        "bacteria[2:3]"
      ],
      "outputs": [
        {
          "output_type": "execute_result",
          "data": {
            "text/plain": [
              "                bacteria_counts  other_feature\n",
              "Actinobacteria              569            234"
            ],
            "text/html": [
              "<div>\n",
              "<style scoped>\n",
              "    .dataframe tbody tr th:only-of-type {\n",
              "        vertical-align: middle;\n",
              "    }\n",
              "\n",
              "    .dataframe tbody tr th {\n",
              "        vertical-align: top;\n",
              "    }\n",
              "\n",
              "    .dataframe thead th {\n",
              "        text-align: right;\n",
              "    }\n",
              "</style>\n",
              "<table border=\"1\" class=\"dataframe\">\n",
              "  <thead>\n",
              "    <tr style=\"text-align: right;\">\n",
              "      <th></th>\n",
              "      <th>bacteria_counts</th>\n",
              "      <th>other_feature</th>\n",
              "    </tr>\n",
              "  </thead>\n",
              "  <tbody>\n",
              "    <tr>\n",
              "      <th>Actinobacteria</th>\n",
              "      <td>569</td>\n",
              "      <td>234</td>\n",
              "    </tr>\n",
              "  </tbody>\n",
              "</table>\n",
              "</div>"
            ]
          },
          "metadata": {
            "tags": []
          },
          "execution_count": 19
        }
      ],
      "metadata": {
        "colab": {
          "base_uri": "https://localhost:8080/"
        },
        "id": "dgQgrhqKAVlB",
        "outputId": "2a325a84-1cce-4f2c-8f2b-6b5f889e692c"
      }
    },
    {
      "cell_type": "markdown",
      "source": [
        "The difference is that the former returns a `Series` because we selected a single lable, while the latter returns a `DataFrame` because we selected a range of positions.\n",
        "\n",
        "Let's return to our unemployment data. Another indexing option, `.iloc`, primarily works with integer positions. To select specific rows, we can do the following."
      ],
      "metadata": {
        "id": "iagK9GtbAVlC"
      }
    },
    {
      "cell_type": "code",
      "execution_count": null,
      "source": [
        "unemployment.iloc[[1, 5, 6, 9]]"
      ],
      "outputs": [
        {
          "output_type": "execute_result",
          "data": {
            "text/plain": [
              "  country seasonality  year_month  unemployment  unemployment_rate\n",
              "1      at         nsa     1993.02        175000                4.6\n",
              "5      at         nsa     1993.06        134000                3.5\n",
              "6      at         nsa     1993.07        128000                3.4\n",
              "9      at         nsa     1993.10        141000                3.7"
            ],
            "text/html": [
              "<div>\n",
              "<style scoped>\n",
              "    .dataframe tbody tr th:only-of-type {\n",
              "        vertical-align: middle;\n",
              "    }\n",
              "\n",
              "    .dataframe tbody tr th {\n",
              "        vertical-align: top;\n",
              "    }\n",
              "\n",
              "    .dataframe thead th {\n",
              "        text-align: right;\n",
              "    }\n",
              "</style>\n",
              "<table border=\"1\" class=\"dataframe\">\n",
              "  <thead>\n",
              "    <tr style=\"text-align: right;\">\n",
              "      <th></th>\n",
              "      <th>country</th>\n",
              "      <th>seasonality</th>\n",
              "      <th>year_month</th>\n",
              "      <th>unemployment</th>\n",
              "      <th>unemployment_rate</th>\n",
              "    </tr>\n",
              "  </thead>\n",
              "  <tbody>\n",
              "    <tr>\n",
              "      <th>1</th>\n",
              "      <td>at</td>\n",
              "      <td>nsa</td>\n",
              "      <td>1993.02</td>\n",
              "      <td>175000</td>\n",
              "      <td>4.6</td>\n",
              "    </tr>\n",
              "    <tr>\n",
              "      <th>5</th>\n",
              "      <td>at</td>\n",
              "      <td>nsa</td>\n",
              "      <td>1993.06</td>\n",
              "      <td>134000</td>\n",
              "      <td>3.5</td>\n",
              "    </tr>\n",
              "    <tr>\n",
              "      <th>6</th>\n",
              "      <td>at</td>\n",
              "      <td>nsa</td>\n",
              "      <td>1993.07</td>\n",
              "      <td>128000</td>\n",
              "      <td>3.4</td>\n",
              "    </tr>\n",
              "    <tr>\n",
              "      <th>9</th>\n",
              "      <td>at</td>\n",
              "      <td>nsa</td>\n",
              "      <td>1993.10</td>\n",
              "      <td>141000</td>\n",
              "      <td>3.7</td>\n",
              "    </tr>\n",
              "  </tbody>\n",
              "</table>\n",
              "</div>"
            ]
          },
          "metadata": {
            "tags": []
          },
          "execution_count": 20
        }
      ],
      "metadata": {
        "colab": {
          "base_uri": "https://localhost:8080/"
        },
        "id": "9qxKfHy5AVlC",
        "outputId": "4a1b82ae-6370-4b9b-e064-bb7e22496236"
      }
    },
    {
      "cell_type": "markdown",
      "source": [
        "We can select a range of rows and specify the step value."
      ],
      "metadata": {
        "id": "E3edRcTCAVlD"
      }
    },
    {
      "cell_type": "code",
      "execution_count": null,
      "source": [
        "unemployment.iloc[25:50:5]"
      ],
      "outputs": [
        {
          "output_type": "execute_result",
          "data": {
            "text/plain": [
              "   country seasonality  year_month  unemployment  unemployment_rate\n",
              "25      at         nsa     1995.02        174000                4.5\n",
              "30      at         nsa     1995.07        123000                3.3\n",
              "35      at         nsa     1995.12        175000                4.7\n",
              "40      at         nsa     1996.05        159000                4.3\n",
              "45      at         nsa     1996.10        146000                3.9"
            ],
            "text/html": [
              "<div>\n",
              "<style scoped>\n",
              "    .dataframe tbody tr th:only-of-type {\n",
              "        vertical-align: middle;\n",
              "    }\n",
              "\n",
              "    .dataframe tbody tr th {\n",
              "        vertical-align: top;\n",
              "    }\n",
              "\n",
              "    .dataframe thead th {\n",
              "        text-align: right;\n",
              "    }\n",
              "</style>\n",
              "<table border=\"1\" class=\"dataframe\">\n",
              "  <thead>\n",
              "    <tr style=\"text-align: right;\">\n",
              "      <th></th>\n",
              "      <th>country</th>\n",
              "      <th>seasonality</th>\n",
              "      <th>year_month</th>\n",
              "      <th>unemployment</th>\n",
              "      <th>unemployment_rate</th>\n",
              "    </tr>\n",
              "  </thead>\n",
              "  <tbody>\n",
              "    <tr>\n",
              "      <th>25</th>\n",
              "      <td>at</td>\n",
              "      <td>nsa</td>\n",
              "      <td>1995.02</td>\n",
              "      <td>174000</td>\n",
              "      <td>4.5</td>\n",
              "    </tr>\n",
              "    <tr>\n",
              "      <th>30</th>\n",
              "      <td>at</td>\n",
              "      <td>nsa</td>\n",
              "      <td>1995.07</td>\n",
              "      <td>123000</td>\n",
              "      <td>3.3</td>\n",
              "    </tr>\n",
              "    <tr>\n",
              "      <th>35</th>\n",
              "      <td>at</td>\n",
              "      <td>nsa</td>\n",
              "      <td>1995.12</td>\n",
              "      <td>175000</td>\n",
              "      <td>4.7</td>\n",
              "    </tr>\n",
              "    <tr>\n",
              "      <th>40</th>\n",
              "      <td>at</td>\n",
              "      <td>nsa</td>\n",
              "      <td>1996.05</td>\n",
              "      <td>159000</td>\n",
              "      <td>4.3</td>\n",
              "    </tr>\n",
              "    <tr>\n",
              "      <th>45</th>\n",
              "      <td>at</td>\n",
              "      <td>nsa</td>\n",
              "      <td>1996.10</td>\n",
              "      <td>146000</td>\n",
              "      <td>3.9</td>\n",
              "    </tr>\n",
              "  </tbody>\n",
              "</table>\n",
              "</div>"
            ]
          },
          "metadata": {
            "tags": []
          },
          "execution_count": 21
        }
      ],
      "metadata": {
        "colab": {
          "base_uri": "https://localhost:8080/"
        },
        "id": "KXfDIMItAVlE",
        "outputId": "40fd0f9a-7686-44cb-a831-e4b8b3775f4a"
      }
    },
    {
      "cell_type": "markdown",
      "source": [
        "(Note: As is typical in Python, the end position is not included. Therefore, we don't see the row associated with the index 50.)\n",
        "\n",
        "Indexing is important. You'll use it a lot. Below, we'll show how to index based on data values.\n",
        "\n"
      ],
      "metadata": {
        "id": "GbwYijBpAVlE"
      }
    },
    {
      "cell_type": "markdown",
      "source": [
        "### Challenge 4: Renaming `bacteria`\n",
        "\n",
        "The \"other_feature\" column in our `bacteria` table isn't very descriptive. Suppose we know that \"other_feature\" refers to a second set of bacteria count observations. Use the `rename` method to give \"other_feature\" a more descriptive name."
      ],
      "metadata": {
        "id": "Accg-aclAVlF"
      }
    },
    {
      "cell_type": "code",
      "execution_count": null,
      "source": [
        "# rename \"other_feature\" in bacteria\r\n"
      ],
      "outputs": [],
      "metadata": {
        "id": "6zTVOU2EAVlF"
      }
    },
    {
      "cell_type": "markdown",
      "source": [
        "### Challenge 5: Indexing to get a specific value\n",
        "\n",
        "Both `loc` and `iloc` can be used to select a particular value if they are given two arguments. The first argument is the name (when using `loc`) or index number (when using `iloc`) of the *row* you want, while the second argument is the name or index number of the *column* you want.\n",
        "\n",
        "Using `loc`, select \"Bacteroidetes\" and \"bacteria_counts\" to get the count of Bacteroidetes.\n",
        "\n",
        "BONUS: how could you do the same task using `iloc`?"
      ],
      "metadata": {
        "id": "6of78E7hAVlF"
      }
    },
    {
      "cell_type": "code",
      "execution_count": null,
      "source": [],
      "outputs": [],
      "metadata": {
        "id": "HcM564mMAVlG"
      }
    },
    {
      "cell_type": "markdown",
      "source": [
        "### Challenge 6: Indexing multiple rows and columns\n",
        "\n",
        "Both `loc` and `iloc` can be used to select subsets of columns *and* rows at the same time if they are given lists (and/or slices, for `iloc`] as their two arguments. \n",
        "\n",
        "Using `iloc` on the `unemployment` DataFrame, get:\n",
        "* every row starting at row 4 and ending at row 7\n",
        "* the 0th, 2nd, and 3rd columns\n",
        "\n",
        "BONUS: how could you do the same task using `loc`?"
      ],
      "metadata": {
        "id": "LPMRR4qbAVlG"
      }
    },
    {
      "cell_type": "code",
      "execution_count": null,
      "source": [],
      "outputs": [],
      "metadata": {
        "id": "jw21QqHcAVlG"
      }
    },
    {
      "cell_type": "markdown",
      "source": [
        "## 3. Manipulating Columns: Renaming, Creating, Reordering"
      ],
      "metadata": {
        "id": "3jqB2GjoAVlH"
      }
    },
    {
      "cell_type": "markdown",
      "source": [
        "So, we still want to **split `year_month` into two separate columns.** Above, we saw that this column is type (technically, `dtype`) `float64`. We'll first extract the year using the `.astype()` method. This allows for type casting&mdash;basically converting from one type to another. We'll then subtract this value from `year_month`&mdash;to get the decimal portion of the value&mdash;and multiply the result by 100 and convert to `int`.\n",
        "\n",
        "For more information on `pandas` `dtype`s, check the documentation [here](http://pandas.pydata.org/pandas-docs/stable/basics.html#dtypes)."
      ],
      "metadata": {
        "id": "uTJm-uKQAVlH"
      }
    },
    {
      "cell_type": "code",
      "execution_count": null,
      "source": [
        "unemployment['year'] = unemployment['year_month'].astype(int)"
      ],
      "outputs": [],
      "metadata": {
        "id": "alben4XAAVlH"
      }
    },
    {
      "cell_type": "markdown",
      "source": [
        "In this case, we're casting the floating point values to integers. In Python, this [truncates the decimals](https://docs.python.org/2/library/stdtypes.html#numeric-types-int-float-long-complex).\n",
        "\n",
        "Finally, let's create our **month** variable as described above. (Because of the truncating that occurs when casting to `int`, we first round the values to the nearest whole number.)"
      ],
      "metadata": {
        "id": "dgwnsYwdAVlI"
      }
    },
    {
      "cell_type": "code",
      "execution_count": null,
      "source": [
        "unemployment['month'] = ((unemployment['year_month'] - unemployment['year']) * 100).round(0).astype(int)"
      ],
      "outputs": [],
      "metadata": {
        "id": "tsp9vLe8AVlI"
      }
    },
    {
      "cell_type": "code",
      "execution_count": null,
      "source": [
        "unemployment.head(12)"
      ],
      "outputs": [
        {
          "output_type": "execute_result",
          "data": {
            "text/plain": [
              "   country seasonality  year_month  ...  unemployment_rate  year  month\n",
              "0       at         nsa     1993.01  ...                4.5  1993      1\n",
              "1       at         nsa     1993.02  ...                4.6  1993      2\n",
              "2       at         nsa     1993.03  ...                4.4  1993      3\n",
              "3       at         nsa     1993.04  ...                4.1  1993      4\n",
              "4       at         nsa     1993.05  ...                3.9  1993      5\n",
              "5       at         nsa     1993.06  ...                3.5  1993      6\n",
              "6       at         nsa     1993.07  ...                3.4  1993      7\n",
              "7       at         nsa     1993.08  ...                3.4  1993      8\n",
              "8       at         nsa     1993.09  ...                3.5  1993      9\n",
              "9       at         nsa     1993.10  ...                3.7  1993     10\n",
              "10      at         nsa     1993.11  ...                4.1  1993     11\n",
              "11      at         nsa     1993.12  ...                4.4  1993     12\n",
              "\n",
              "[12 rows x 7 columns]"
            ],
            "text/html": [
              "<div>\n",
              "<style scoped>\n",
              "    .dataframe tbody tr th:only-of-type {\n",
              "        vertical-align: middle;\n",
              "    }\n",
              "\n",
              "    .dataframe tbody tr th {\n",
              "        vertical-align: top;\n",
              "    }\n",
              "\n",
              "    .dataframe thead th {\n",
              "        text-align: right;\n",
              "    }\n",
              "</style>\n",
              "<table border=\"1\" class=\"dataframe\">\n",
              "  <thead>\n",
              "    <tr style=\"text-align: right;\">\n",
              "      <th></th>\n",
              "      <th>country</th>\n",
              "      <th>seasonality</th>\n",
              "      <th>year_month</th>\n",
              "      <th>unemployment</th>\n",
              "      <th>unemployment_rate</th>\n",
              "      <th>year</th>\n",
              "      <th>month</th>\n",
              "    </tr>\n",
              "  </thead>\n",
              "  <tbody>\n",
              "    <tr>\n",
              "      <th>0</th>\n",
              "      <td>at</td>\n",
              "      <td>nsa</td>\n",
              "      <td>1993.01</td>\n",
              "      <td>171000</td>\n",
              "      <td>4.5</td>\n",
              "      <td>1993</td>\n",
              "      <td>1</td>\n",
              "    </tr>\n",
              "    <tr>\n",
              "      <th>1</th>\n",
              "      <td>at</td>\n",
              "      <td>nsa</td>\n",
              "      <td>1993.02</td>\n",
              "      <td>175000</td>\n",
              "      <td>4.6</td>\n",
              "      <td>1993</td>\n",
              "      <td>2</td>\n",
              "    </tr>\n",
              "    <tr>\n",
              "      <th>2</th>\n",
              "      <td>at</td>\n",
              "      <td>nsa</td>\n",
              "      <td>1993.03</td>\n",
              "      <td>166000</td>\n",
              "      <td>4.4</td>\n",
              "      <td>1993</td>\n",
              "      <td>3</td>\n",
              "    </tr>\n",
              "    <tr>\n",
              "      <th>3</th>\n",
              "      <td>at</td>\n",
              "      <td>nsa</td>\n",
              "      <td>1993.04</td>\n",
              "      <td>157000</td>\n",
              "      <td>4.1</td>\n",
              "      <td>1993</td>\n",
              "      <td>4</td>\n",
              "    </tr>\n",
              "    <tr>\n",
              "      <th>4</th>\n",
              "      <td>at</td>\n",
              "      <td>nsa</td>\n",
              "      <td>1993.05</td>\n",
              "      <td>147000</td>\n",
              "      <td>3.9</td>\n",
              "      <td>1993</td>\n",
              "      <td>5</td>\n",
              "    </tr>\n",
              "    <tr>\n",
              "      <th>5</th>\n",
              "      <td>at</td>\n",
              "      <td>nsa</td>\n",
              "      <td>1993.06</td>\n",
              "      <td>134000</td>\n",
              "      <td>3.5</td>\n",
              "      <td>1993</td>\n",
              "      <td>6</td>\n",
              "    </tr>\n",
              "    <tr>\n",
              "      <th>6</th>\n",
              "      <td>at</td>\n",
              "      <td>nsa</td>\n",
              "      <td>1993.07</td>\n",
              "      <td>128000</td>\n",
              "      <td>3.4</td>\n",
              "      <td>1993</td>\n",
              "      <td>7</td>\n",
              "    </tr>\n",
              "    <tr>\n",
              "      <th>7</th>\n",
              "      <td>at</td>\n",
              "      <td>nsa</td>\n",
              "      <td>1993.08</td>\n",
              "      <td>130000</td>\n",
              "      <td>3.4</td>\n",
              "      <td>1993</td>\n",
              "      <td>8</td>\n",
              "    </tr>\n",
              "    <tr>\n",
              "      <th>8</th>\n",
              "      <td>at</td>\n",
              "      <td>nsa</td>\n",
              "      <td>1993.09</td>\n",
              "      <td>132000</td>\n",
              "      <td>3.5</td>\n",
              "      <td>1993</td>\n",
              "      <td>9</td>\n",
              "    </tr>\n",
              "    <tr>\n",
              "      <th>9</th>\n",
              "      <td>at</td>\n",
              "      <td>nsa</td>\n",
              "      <td>1993.10</td>\n",
              "      <td>141000</td>\n",
              "      <td>3.7</td>\n",
              "      <td>1993</td>\n",
              "      <td>10</td>\n",
              "    </tr>\n",
              "    <tr>\n",
              "      <th>10</th>\n",
              "      <td>at</td>\n",
              "      <td>nsa</td>\n",
              "      <td>1993.11</td>\n",
              "      <td>156000</td>\n",
              "      <td>4.1</td>\n",
              "      <td>1993</td>\n",
              "      <td>11</td>\n",
              "    </tr>\n",
              "    <tr>\n",
              "      <th>11</th>\n",
              "      <td>at</td>\n",
              "      <td>nsa</td>\n",
              "      <td>1993.12</td>\n",
              "      <td>169000</td>\n",
              "      <td>4.4</td>\n",
              "      <td>1993</td>\n",
              "      <td>12</td>\n",
              "    </tr>\n",
              "  </tbody>\n",
              "</table>\n",
              "</div>"
            ]
          },
          "metadata": {
            "tags": []
          },
          "execution_count": 25
        }
      ],
      "metadata": {
        "colab": {
          "base_uri": "https://localhost:8080/",
          "height": 408
        },
        "id": "TmQWFDZoAVlI",
        "outputId": "4d422e04-f36a-448a-8d29-eea291d470e3"
      }
    },
    {
      "cell_type": "markdown",
      "source": [
        "To create the `month` column, we subtracted two vectors. This resulted in the decimal value in `year_month`. To transform the values to integers, we multiplied by 100.\n",
        "\n",
        "Now, let's say we wanted to **reorder the columns** in the `DataFrame`. For this, we use bracket notation again, passing in a list of column names in the order we'd like to see them."
      ],
      "metadata": {
        "collapsed": true,
        "id": "3JhWy9eKAVlJ"
      }
    },
    {
      "cell_type": "code",
      "execution_count": null,
      "source": [
        "unemployment = unemployment[['country', 'seasonality',\n",
        "                             'year_month', 'year', 'month',\n",
        "                             'unemployment', 'unemployment_rate']]"
      ],
      "outputs": [],
      "metadata": {
        "id": "sFIotN4vAVlJ"
      }
    },
    {
      "cell_type": "code",
      "execution_count": null,
      "source": [
        "unemployment.head(10)"
      ],
      "outputs": [
        {
          "output_type": "execute_result",
          "data": {
            "text/plain": [
              "  country seasonality  year_month  year  month  unemployment  unemployment_rate\n",
              "0      at         nsa     1993.01  1993      1        171000                4.5\n",
              "1      at         nsa     1993.02  1993      2        175000                4.6\n",
              "2      at         nsa     1993.03  1993      3        166000                4.4\n",
              "3      at         nsa     1993.04  1993      4        157000                4.1\n",
              "4      at         nsa     1993.05  1993      5        147000                3.9\n",
              "5      at         nsa     1993.06  1993      6        134000                3.5\n",
              "6      at         nsa     1993.07  1993      7        128000                3.4\n",
              "7      at         nsa     1993.08  1993      8        130000                3.4\n",
              "8      at         nsa     1993.09  1993      9        132000                3.5\n",
              "9      at         nsa     1993.10  1993     10        141000                3.7"
            ],
            "text/html": [
              "<div>\n",
              "<style scoped>\n",
              "    .dataframe tbody tr th:only-of-type {\n",
              "        vertical-align: middle;\n",
              "    }\n",
              "\n",
              "    .dataframe tbody tr th {\n",
              "        vertical-align: top;\n",
              "    }\n",
              "\n",
              "    .dataframe thead th {\n",
              "        text-align: right;\n",
              "    }\n",
              "</style>\n",
              "<table border=\"1\" class=\"dataframe\">\n",
              "  <thead>\n",
              "    <tr style=\"text-align: right;\">\n",
              "      <th></th>\n",
              "      <th>country</th>\n",
              "      <th>seasonality</th>\n",
              "      <th>year_month</th>\n",
              "      <th>year</th>\n",
              "      <th>month</th>\n",
              "      <th>unemployment</th>\n",
              "      <th>unemployment_rate</th>\n",
              "    </tr>\n",
              "  </thead>\n",
              "  <tbody>\n",
              "    <tr>\n",
              "      <th>0</th>\n",
              "      <td>at</td>\n",
              "      <td>nsa</td>\n",
              "      <td>1993.01</td>\n",
              "      <td>1993</td>\n",
              "      <td>1</td>\n",
              "      <td>171000</td>\n",
              "      <td>4.5</td>\n",
              "    </tr>\n",
              "    <tr>\n",
              "      <th>1</th>\n",
              "      <td>at</td>\n",
              "      <td>nsa</td>\n",
              "      <td>1993.02</td>\n",
              "      <td>1993</td>\n",
              "      <td>2</td>\n",
              "      <td>175000</td>\n",
              "      <td>4.6</td>\n",
              "    </tr>\n",
              "    <tr>\n",
              "      <th>2</th>\n",
              "      <td>at</td>\n",
              "      <td>nsa</td>\n",
              "      <td>1993.03</td>\n",
              "      <td>1993</td>\n",
              "      <td>3</td>\n",
              "      <td>166000</td>\n",
              "      <td>4.4</td>\n",
              "    </tr>\n",
              "    <tr>\n",
              "      <th>3</th>\n",
              "      <td>at</td>\n",
              "      <td>nsa</td>\n",
              "      <td>1993.04</td>\n",
              "      <td>1993</td>\n",
              "      <td>4</td>\n",
              "      <td>157000</td>\n",
              "      <td>4.1</td>\n",
              "    </tr>\n",
              "    <tr>\n",
              "      <th>4</th>\n",
              "      <td>at</td>\n",
              "      <td>nsa</td>\n",
              "      <td>1993.05</td>\n",
              "      <td>1993</td>\n",
              "      <td>5</td>\n",
              "      <td>147000</td>\n",
              "      <td>3.9</td>\n",
              "    </tr>\n",
              "    <tr>\n",
              "      <th>5</th>\n",
              "      <td>at</td>\n",
              "      <td>nsa</td>\n",
              "      <td>1993.06</td>\n",
              "      <td>1993</td>\n",
              "      <td>6</td>\n",
              "      <td>134000</td>\n",
              "      <td>3.5</td>\n",
              "    </tr>\n",
              "    <tr>\n",
              "      <th>6</th>\n",
              "      <td>at</td>\n",
              "      <td>nsa</td>\n",
              "      <td>1993.07</td>\n",
              "      <td>1993</td>\n",
              "      <td>7</td>\n",
              "      <td>128000</td>\n",
              "      <td>3.4</td>\n",
              "    </tr>\n",
              "    <tr>\n",
              "      <th>7</th>\n",
              "      <td>at</td>\n",
              "      <td>nsa</td>\n",
              "      <td>1993.08</td>\n",
              "      <td>1993</td>\n",
              "      <td>8</td>\n",
              "      <td>130000</td>\n",
              "      <td>3.4</td>\n",
              "    </tr>\n",
              "    <tr>\n",
              "      <th>8</th>\n",
              "      <td>at</td>\n",
              "      <td>nsa</td>\n",
              "      <td>1993.09</td>\n",
              "      <td>1993</td>\n",
              "      <td>9</td>\n",
              "      <td>132000</td>\n",
              "      <td>3.5</td>\n",
              "    </tr>\n",
              "    <tr>\n",
              "      <th>9</th>\n",
              "      <td>at</td>\n",
              "      <td>nsa</td>\n",
              "      <td>1993.10</td>\n",
              "      <td>1993</td>\n",
              "      <td>10</td>\n",
              "      <td>141000</td>\n",
              "      <td>3.7</td>\n",
              "    </tr>\n",
              "  </tbody>\n",
              "</table>\n",
              "</div>"
            ]
          },
          "metadata": {
            "tags": []
          },
          "execution_count": 27
        }
      ],
      "metadata": {
        "colab": {
          "base_uri": "https://localhost:8080/",
          "height": 348
        },
        "id": "OUKgcYTZAVlJ",
        "outputId": "9312a795-4b2e-40f7-fc67-cdd7a36fdc7f"
      }
    },
    {
      "cell_type": "markdown",
      "source": [
        "### Challenge 7: Another way to get the month\n",
        "\n",
        "If you didn't know that casting floats to ints truncates the decimals in Python, you could have used NumPy's `floor()` function. `np.floor` takes an array or Pandas Series of floats as its argument, and returns an array or Series where every float has been rounded down to the nearest whole number. \n",
        "\n",
        "\n",
        "Use `np.floor` to round the values in the \"year_month\" column down so we can cast them as integer years. Note that the types are still floats, so we'll still need to use `astype` to typecast."
      ],
      "metadata": {
        "id": "s2-y4cEdAVlK"
      }
    },
    {
      "cell_type": "code",
      "execution_count": null,
      "source": [
        "import numpy as np\n",
        "\n",
        "# select the \"year_month\" column\n",
        "year_month = ...\n",
        "\n",
        "# use np.floor on year_month to get the years as floats\n",
        "years_by_floor = ...\n",
        "\n",
        "# cast years_by_floor to integers using astype(int)\n",
        "int_years = ...\n",
        "\n",
        "# check that this gets the same answers as our first approach\n",
        "# this should return True\n",
        "(unemployment['year_month'].astype(int) == int_years).all()"
      ],
      "outputs": [
        {
          "output_type": "error",
          "ename": "ValueError",
          "evalue": "ignored",
          "traceback": [
            "\u001b[0;31m---------------------------------------------------------------------------\u001b[0m",
            "\u001b[0;31mValueError\u001b[0m                                Traceback (most recent call last)",
            "\u001b[0;32m<ipython-input-28-3f2f3df0c148>\u001b[0m in \u001b[0;36m<module>\u001b[0;34m()\u001b[0m\n\u001b[1;32m     12\u001b[0m \u001b[0;31m# check that this gets the same answers as our first approach\u001b[0m\u001b[0;34m\u001b[0m\u001b[0;34m\u001b[0m\u001b[0;34m\u001b[0m\u001b[0m\n\u001b[1;32m     13\u001b[0m \u001b[0;31m# this should return True\u001b[0m\u001b[0;34m\u001b[0m\u001b[0;34m\u001b[0m\u001b[0;34m\u001b[0m\u001b[0m\n\u001b[0;32m---> 14\u001b[0;31m \u001b[0;34m(\u001b[0m\u001b[0munemployment\u001b[0m\u001b[0;34m[\u001b[0m\u001b[0;34m'year_month'\u001b[0m\u001b[0;34m]\u001b[0m\u001b[0;34m.\u001b[0m\u001b[0mastype\u001b[0m\u001b[0;34m(\u001b[0m\u001b[0mint\u001b[0m\u001b[0;34m)\u001b[0m \u001b[0;34m==\u001b[0m \u001b[0mint_years\u001b[0m\u001b[0;34m)\u001b[0m\u001b[0;34m.\u001b[0m\u001b[0mall\u001b[0m\u001b[0;34m(\u001b[0m\u001b[0;34m)\u001b[0m\u001b[0;34m\u001b[0m\u001b[0;34m\u001b[0m\u001b[0m\n\u001b[0m",
            "\u001b[0;32m/usr/local/lib/python3.7/dist-packages/pandas/core/ops/common.py\u001b[0m in \u001b[0;36mnew_method\u001b[0;34m(self, other)\u001b[0m\n\u001b[1;32m     63\u001b[0m         \u001b[0mother\u001b[0m \u001b[0;34m=\u001b[0m \u001b[0mitem_from_zerodim\u001b[0m\u001b[0;34m(\u001b[0m\u001b[0mother\u001b[0m\u001b[0;34m)\u001b[0m\u001b[0;34m\u001b[0m\u001b[0;34m\u001b[0m\u001b[0m\n\u001b[1;32m     64\u001b[0m \u001b[0;34m\u001b[0m\u001b[0m\n\u001b[0;32m---> 65\u001b[0;31m         \u001b[0;32mreturn\u001b[0m \u001b[0mmethod\u001b[0m\u001b[0;34m(\u001b[0m\u001b[0mself\u001b[0m\u001b[0;34m,\u001b[0m \u001b[0mother\u001b[0m\u001b[0;34m)\u001b[0m\u001b[0;34m\u001b[0m\u001b[0;34m\u001b[0m\u001b[0m\n\u001b[0m\u001b[1;32m     66\u001b[0m \u001b[0;34m\u001b[0m\u001b[0m\n\u001b[1;32m     67\u001b[0m     \u001b[0;32mreturn\u001b[0m \u001b[0mnew_method\u001b[0m\u001b[0;34m\u001b[0m\u001b[0;34m\u001b[0m\u001b[0m\n",
            "\u001b[0;32m/usr/local/lib/python3.7/dist-packages/pandas/core/ops/__init__.py\u001b[0m in \u001b[0;36mwrapper\u001b[0;34m(self, other)\u001b[0m\n\u001b[1;32m    368\u001b[0m         \u001b[0mrvalues\u001b[0m \u001b[0;34m=\u001b[0m \u001b[0mextract_array\u001b[0m\u001b[0;34m(\u001b[0m\u001b[0mother\u001b[0m\u001b[0;34m,\u001b[0m \u001b[0mextract_numpy\u001b[0m\u001b[0;34m=\u001b[0m\u001b[0;32mTrue\u001b[0m\u001b[0;34m)\u001b[0m\u001b[0;34m\u001b[0m\u001b[0;34m\u001b[0m\u001b[0m\n\u001b[1;32m    369\u001b[0m \u001b[0;34m\u001b[0m\u001b[0m\n\u001b[0;32m--> 370\u001b[0;31m         \u001b[0mres_values\u001b[0m \u001b[0;34m=\u001b[0m \u001b[0mcomparison_op\u001b[0m\u001b[0;34m(\u001b[0m\u001b[0mlvalues\u001b[0m\u001b[0;34m,\u001b[0m \u001b[0mrvalues\u001b[0m\u001b[0;34m,\u001b[0m \u001b[0mop\u001b[0m\u001b[0;34m)\u001b[0m\u001b[0;34m\u001b[0m\u001b[0;34m\u001b[0m\u001b[0m\n\u001b[0m\u001b[1;32m    371\u001b[0m \u001b[0;34m\u001b[0m\u001b[0m\n\u001b[1;32m    372\u001b[0m         \u001b[0;32mreturn\u001b[0m \u001b[0mself\u001b[0m\u001b[0;34m.\u001b[0m\u001b[0m_construct_result\u001b[0m\u001b[0;34m(\u001b[0m\u001b[0mres_values\u001b[0m\u001b[0;34m,\u001b[0m \u001b[0mname\u001b[0m\u001b[0;34m=\u001b[0m\u001b[0mres_name\u001b[0m\u001b[0;34m)\u001b[0m\u001b[0;34m\u001b[0m\u001b[0;34m\u001b[0m\u001b[0m\n",
            "\u001b[0;32m/usr/local/lib/python3.7/dist-packages/pandas/core/ops/array_ops.py\u001b[0m in \u001b[0;36mcomparison_op\u001b[0;34m(left, right, op)\u001b[0m\n\u001b[1;32m    249\u001b[0m             \u001b[0mwarnings\u001b[0m\u001b[0;34m.\u001b[0m\u001b[0msimplefilter\u001b[0m\u001b[0;34m(\u001b[0m\u001b[0;34m\"ignore\"\u001b[0m\u001b[0;34m,\u001b[0m \u001b[0mDeprecationWarning\u001b[0m\u001b[0;34m)\u001b[0m\u001b[0;34m\u001b[0m\u001b[0;34m\u001b[0m\u001b[0m\n\u001b[1;32m    250\u001b[0m             \u001b[0;32mwith\u001b[0m \u001b[0mnp\u001b[0m\u001b[0;34m.\u001b[0m\u001b[0merrstate\u001b[0m\u001b[0;34m(\u001b[0m\u001b[0mall\u001b[0m\u001b[0;34m=\u001b[0m\u001b[0;34m\"ignore\"\u001b[0m\u001b[0;34m)\u001b[0m\u001b[0;34m:\u001b[0m\u001b[0;34m\u001b[0m\u001b[0;34m\u001b[0m\u001b[0m\n\u001b[0;32m--> 251\u001b[0;31m                 \u001b[0mres_values\u001b[0m \u001b[0;34m=\u001b[0m \u001b[0mna_arithmetic_op\u001b[0m\u001b[0;34m(\u001b[0m\u001b[0mlvalues\u001b[0m\u001b[0;34m,\u001b[0m \u001b[0mrvalues\u001b[0m\u001b[0;34m,\u001b[0m \u001b[0mop\u001b[0m\u001b[0;34m,\u001b[0m \u001b[0mis_cmp\u001b[0m\u001b[0;34m=\u001b[0m\u001b[0;32mTrue\u001b[0m\u001b[0;34m)\u001b[0m\u001b[0;34m\u001b[0m\u001b[0;34m\u001b[0m\u001b[0m\n\u001b[0m\u001b[1;32m    252\u001b[0m \u001b[0;34m\u001b[0m\u001b[0m\n\u001b[1;32m    253\u001b[0m     \u001b[0;32mreturn\u001b[0m \u001b[0mres_values\u001b[0m\u001b[0;34m\u001b[0m\u001b[0;34m\u001b[0m\u001b[0m\n",
            "\u001b[0;32m/usr/local/lib/python3.7/dist-packages/pandas/core/ops/array_ops.py\u001b[0m in \u001b[0;36mna_arithmetic_op\u001b[0;34m(left, right, op, is_cmp)\u001b[0m\n\u001b[1;32m    141\u001b[0m \u001b[0;34m\u001b[0m\u001b[0m\n\u001b[1;32m    142\u001b[0m     \u001b[0;32mtry\u001b[0m\u001b[0;34m:\u001b[0m\u001b[0;34m\u001b[0m\u001b[0;34m\u001b[0m\u001b[0m\n\u001b[0;32m--> 143\u001b[0;31m         \u001b[0mresult\u001b[0m \u001b[0;34m=\u001b[0m \u001b[0mexpressions\u001b[0m\u001b[0;34m.\u001b[0m\u001b[0mevaluate\u001b[0m\u001b[0;34m(\u001b[0m\u001b[0mop\u001b[0m\u001b[0;34m,\u001b[0m \u001b[0mleft\u001b[0m\u001b[0;34m,\u001b[0m \u001b[0mright\u001b[0m\u001b[0;34m)\u001b[0m\u001b[0;34m\u001b[0m\u001b[0;34m\u001b[0m\u001b[0m\n\u001b[0m\u001b[1;32m    144\u001b[0m     \u001b[0;32mexcept\u001b[0m \u001b[0mTypeError\u001b[0m\u001b[0;34m:\u001b[0m\u001b[0;34m\u001b[0m\u001b[0;34m\u001b[0m\u001b[0m\n\u001b[1;32m    145\u001b[0m         \u001b[0;32mif\u001b[0m \u001b[0mis_cmp\u001b[0m\u001b[0;34m:\u001b[0m\u001b[0;34m\u001b[0m\u001b[0;34m\u001b[0m\u001b[0m\n",
            "\u001b[0;32m/usr/local/lib/python3.7/dist-packages/pandas/core/computation/expressions.py\u001b[0m in \u001b[0;36mevaluate\u001b[0;34m(op, a, b, use_numexpr)\u001b[0m\n\u001b[1;32m    231\u001b[0m         \u001b[0muse_numexpr\u001b[0m \u001b[0;34m=\u001b[0m \u001b[0muse_numexpr\u001b[0m \u001b[0;32mand\u001b[0m \u001b[0m_bool_arith_check\u001b[0m\u001b[0;34m(\u001b[0m\u001b[0mop_str\u001b[0m\u001b[0;34m,\u001b[0m \u001b[0ma\u001b[0m\u001b[0;34m,\u001b[0m \u001b[0mb\u001b[0m\u001b[0;34m)\u001b[0m\u001b[0;34m\u001b[0m\u001b[0;34m\u001b[0m\u001b[0m\n\u001b[1;32m    232\u001b[0m         \u001b[0;32mif\u001b[0m \u001b[0muse_numexpr\u001b[0m\u001b[0;34m:\u001b[0m\u001b[0;34m\u001b[0m\u001b[0;34m\u001b[0m\u001b[0m\n\u001b[0;32m--> 233\u001b[0;31m             \u001b[0;32mreturn\u001b[0m \u001b[0m_evaluate\u001b[0m\u001b[0;34m(\u001b[0m\u001b[0mop\u001b[0m\u001b[0;34m,\u001b[0m \u001b[0mop_str\u001b[0m\u001b[0;34m,\u001b[0m \u001b[0ma\u001b[0m\u001b[0;34m,\u001b[0m \u001b[0mb\u001b[0m\u001b[0;34m)\u001b[0m  \u001b[0;31m# type: ignore\u001b[0m\u001b[0;34m\u001b[0m\u001b[0;34m\u001b[0m\u001b[0m\n\u001b[0m\u001b[1;32m    234\u001b[0m     \u001b[0;32mreturn\u001b[0m \u001b[0m_evaluate_standard\u001b[0m\u001b[0;34m(\u001b[0m\u001b[0mop\u001b[0m\u001b[0;34m,\u001b[0m \u001b[0mop_str\u001b[0m\u001b[0;34m,\u001b[0m \u001b[0ma\u001b[0m\u001b[0;34m,\u001b[0m \u001b[0mb\u001b[0m\u001b[0;34m)\u001b[0m\u001b[0;34m\u001b[0m\u001b[0;34m\u001b[0m\u001b[0m\n\u001b[1;32m    235\u001b[0m \u001b[0;34m\u001b[0m\u001b[0m\n",
            "\u001b[0;32m/usr/local/lib/python3.7/dist-packages/pandas/core/computation/expressions.py\u001b[0m in \u001b[0;36m_evaluate_numexpr\u001b[0;34m(op, op_str, a, b)\u001b[0m\n\u001b[1;32m    110\u001b[0m             \u001b[0;34mf\"a_value {op_str} b_value\"\u001b[0m\u001b[0;34m,\u001b[0m\u001b[0;34m\u001b[0m\u001b[0;34m\u001b[0m\u001b[0m\n\u001b[1;32m    111\u001b[0m             \u001b[0mlocal_dict\u001b[0m\u001b[0;34m=\u001b[0m\u001b[0;34m{\u001b[0m\u001b[0;34m\"a_value\"\u001b[0m\u001b[0;34m:\u001b[0m \u001b[0ma_value\u001b[0m\u001b[0;34m,\u001b[0m \u001b[0;34m\"b_value\"\u001b[0m\u001b[0;34m:\u001b[0m \u001b[0mb_value\u001b[0m\u001b[0;34m}\u001b[0m\u001b[0;34m,\u001b[0m\u001b[0;34m\u001b[0m\u001b[0;34m\u001b[0m\u001b[0m\n\u001b[0;32m--> 112\u001b[0;31m             \u001b[0mcasting\u001b[0m\u001b[0;34m=\u001b[0m\u001b[0;34m\"safe\"\u001b[0m\u001b[0;34m,\u001b[0m\u001b[0;34m\u001b[0m\u001b[0;34m\u001b[0m\u001b[0m\n\u001b[0m\u001b[1;32m    113\u001b[0m         )\n\u001b[1;32m    114\u001b[0m \u001b[0;34m\u001b[0m\u001b[0m\n",
            "\u001b[0;32m/usr/local/lib/python3.7/dist-packages/numexpr/necompiler.py\u001b[0m in \u001b[0;36mevaluate\u001b[0;34m(ex, local_dict, global_dict, out, order, casting, **kwargs)\u001b[0m\n\u001b[1;32m    822\u001b[0m     \u001b[0;31m# Create a signature\u001b[0m\u001b[0;34m\u001b[0m\u001b[0;34m\u001b[0m\u001b[0;34m\u001b[0m\u001b[0m\n\u001b[1;32m    823\u001b[0m     signature = [(name, getType(arg)) for (name, arg) in\n\u001b[0;32m--> 824\u001b[0;31m                  zip(names, arguments)]\n\u001b[0m\u001b[1;32m    825\u001b[0m \u001b[0;34m\u001b[0m\u001b[0m\n\u001b[1;32m    826\u001b[0m     \u001b[0;31m# Look up numexpr if possible.\u001b[0m\u001b[0;34m\u001b[0m\u001b[0;34m\u001b[0m\u001b[0;34m\u001b[0m\u001b[0m\n",
            "\u001b[0;32m/usr/local/lib/python3.7/dist-packages/numexpr/necompiler.py\u001b[0m in \u001b[0;36m<listcomp>\u001b[0;34m(.0)\u001b[0m\n\u001b[1;32m    821\u001b[0m \u001b[0;34m\u001b[0m\u001b[0m\n\u001b[1;32m    822\u001b[0m     \u001b[0;31m# Create a signature\u001b[0m\u001b[0;34m\u001b[0m\u001b[0;34m\u001b[0m\u001b[0;34m\u001b[0m\u001b[0m\n\u001b[0;32m--> 823\u001b[0;31m     signature = [(name, getType(arg)) for (name, arg) in\n\u001b[0m\u001b[1;32m    824\u001b[0m                  zip(names, arguments)]\n\u001b[1;32m    825\u001b[0m \u001b[0;34m\u001b[0m\u001b[0m\n",
            "\u001b[0;32m/usr/local/lib/python3.7/dist-packages/numexpr/necompiler.py\u001b[0m in \u001b[0;36mgetType\u001b[0;34m(a)\u001b[0m\n\u001b[1;32m    703\u001b[0m     \u001b[0;32mif\u001b[0m \u001b[0mkind\u001b[0m \u001b[0;34m==\u001b[0m \u001b[0;34m'U'\u001b[0m\u001b[0;34m:\u001b[0m\u001b[0;34m\u001b[0m\u001b[0;34m\u001b[0m\u001b[0m\n\u001b[1;32m    704\u001b[0m         \u001b[0;32mraise\u001b[0m \u001b[0mValueError\u001b[0m\u001b[0;34m(\u001b[0m\u001b[0;34m'NumExpr 2 does not support Unicode as a dtype.'\u001b[0m\u001b[0;34m)\u001b[0m\u001b[0;34m\u001b[0m\u001b[0;34m\u001b[0m\u001b[0m\n\u001b[0;32m--> 705\u001b[0;31m     \u001b[0;32mraise\u001b[0m \u001b[0mValueError\u001b[0m\u001b[0;34m(\u001b[0m\u001b[0;34m\"unknown type %s\"\u001b[0m \u001b[0;34m%\u001b[0m \u001b[0ma\u001b[0m\u001b[0;34m.\u001b[0m\u001b[0mdtype\u001b[0m\u001b[0;34m.\u001b[0m\u001b[0mname\u001b[0m\u001b[0;34m)\u001b[0m\u001b[0;34m\u001b[0m\u001b[0;34m\u001b[0m\u001b[0m\n\u001b[0m\u001b[1;32m    706\u001b[0m \u001b[0;34m\u001b[0m\u001b[0m\n\u001b[1;32m    707\u001b[0m \u001b[0;34m\u001b[0m\u001b[0m\n",
            "\u001b[0;31mValueError\u001b[0m: unknown type object"
          ]
        }
      ],
      "metadata": {
        "colab": {
          "base_uri": "https://localhost:8080/",
          "height": 358
        },
        "id": "yA0YBM3qAVlK",
        "outputId": "2fc243b0-0767-4eed-9c8c-bcc0871c1ac0"
      }
    },
    {
      "cell_type": "markdown",
      "source": [
        "The last line of code in the previous cell does an element-wise comparison of the values in the corresponding arrays. The `.all()` method checks whether *all* elements are `True`."
      ],
      "metadata": {
        "id": "Y8bon7I4AVlL"
      }
    },
    {
      "cell_type": "markdown",
      "source": [
        "## 4. Merging"
      ],
      "metadata": {
        "id": "fQZIZttLAVlL"
      }
    },
    {
      "cell_type": "markdown",
      "source": [
        "So far, our `DataFrame` is organized in a reasonable way. But, we know we can do better. We're eventually going to be interested in the unemployment rate for each country. The trouble is, we don't exactly know what the values in `country` refer to. We can fix that by getting country names. These can be found in `countries.csv`. Run the following cell to import the countries data using a URL as the file path."
      ],
      "metadata": {
        "collapsed": true,
        "id": "Q1tWP7hrAVlL"
      }
    },
    {
      "cell_type": "code",
      "execution_count": null,
      "source": [
        "countries_url = 'https://raw.githubusercontent.com/dlab-berkeley/introduction-to-pandas/master/data/countries.csv'\r\n",
        "countries = pd.read_csv(countries_url)"
      ],
      "outputs": [],
      "metadata": {
        "id": "XNisaDY5AVlL"
      }
    },
    {
      "cell_type": "code",
      "execution_count": null,
      "source": [
        "countries.tail(3)"
      ],
      "outputs": [],
      "metadata": {
        "id": "DoNDYPtPAVlM"
      }
    },
    {
      "cell_type": "markdown",
      "source": [
        "This file has lots of useful information. It even has the country names is three different languages.\n",
        "\n",
        "Because the data we need is stored in two separate files, we'll want to merge the data somehow. Let's determine which column we can use to join this data. `country` looks like a good option. However, we don't need all of the columns in the `countries` `DataFrame`. To select certain columns, we use the name bracket notation we used to reorder the columns."
      ],
      "metadata": {
        "id": "Fd591YMbAVlM"
      }
    },
    {
      "cell_type": "code",
      "execution_count": null,
      "source": [
        "country_names = countries[['country', 'country_group', 'name_en']]"
      ],
      "outputs": [],
      "metadata": {
        "id": "1LWu2b1RAVlM"
      }
    },
    {
      "cell_type": "code",
      "execution_count": null,
      "source": [
        "country_names.head(2)"
      ],
      "outputs": [],
      "metadata": {
        "id": "lfKVKG7DAVlM"
      }
    },
    {
      "cell_type": "markdown",
      "source": [
        "`pandas` includes an easy-to-use merge function. Let's use it to **merge the two `DataFrame`s on country code.**"
      ],
      "metadata": {
        "id": "BJMU3AcXAVlM"
      }
    },
    {
      "cell_type": "code",
      "execution_count": null,
      "source": [
        "unemployment = pd.merge(unemployment, country_names, on='country')"
      ],
      "outputs": [],
      "metadata": {
        "id": "GXSoiKw1AVlM"
      }
    },
    {
      "cell_type": "markdown",
      "source": [
        "Merging is often more complex than this example. If you want to merge on multiple columns, you can pass a list of column names to the `on` parameter.\n",
        "\n",
        "```\n",
        "pd.merge(first, second, on=['name', 'id'])\n",
        "```\n",
        "\n",
        "For more information on merging, check the [documentation](http://pandas.pydata.org/pandas-docs/stable/merging.html#database-style-dataframe-joining-merging).\n",
        "\n",
        "`pandas` also provides a `.merge()` method that can act on a `DataFrame`. You can read more about that [here](http://pandas.pydata.org/pandas-docs/stable/generated/pandas.DataFrame.merge.html)."
      ],
      "metadata": {
        "id": "5CwtRMq9AVlN"
      }
    },
    {
      "cell_type": "markdown",
      "source": [
        "### Challenge 8: \n",
        "\n",
        "You may sometimes need to merge on columns with different names. To do so, use the `left_on` and `right_on` parameters, where the first listed `DataFrame` is the \"left\" one and the second is the \"right.\" It might look something this.\n",
        "\n",
        "```\n",
        "pd.merge(one, two, left_on='city', right_on='city_name')\n",
        "```\n",
        "\n",
        "Suppose wanted to merge `unemployment` with a new DataFrame called `country_codes`, where the abbreviation for each country is in the column \"c_code\":"
      ],
      "metadata": {
        "id": "rHWTfyrbAVlN"
      }
    },
    {
      "cell_type": "code",
      "execution_count": null,
      "source": [
        "country_codes = country_names.rename({\"country\":\"c_code\"}, axis=1).drop(\"country_group\", axis=1)\r\n",
        "country_codes.head()"
      ],
      "outputs": [],
      "metadata": {
        "id": "FD16H0jYAVlN"
      }
    },
    {
      "cell_type": "markdown",
      "source": [
        "Use `merge` to merge `unemployment` and `country_codes` on their country codes. Make sure to specify `left_on=` and `right_on=` in the call to `merge`!"
      ],
      "metadata": {
        "id": "KKE38R4fAVlN"
      }
    },
    {
      "cell_type": "code",
      "execution_count": null,
      "source": [],
      "outputs": [],
      "metadata": {
        "id": "mQv7o8KVAVlN"
      }
    },
    {
      "cell_type": "markdown",
      "source": [
        "## 5. Calculating Unique and Missing Values"
      ],
      "metadata": {
        "id": "3KKn5n5sAVlO"
      }
    },
    {
      "cell_type": "code",
      "execution_count": null,
      "source": [
        "unemployment.head()"
      ],
      "outputs": [],
      "metadata": {
        "id": "NTjtb4NBAVlO"
      }
    },
    {
      "cell_type": "markdown",
      "source": [
        "That's better. We now know that the abbreviation \"at\" corresponds to Austria. We might be curious to check what countries we have data for. The `Series` object includes a `.unique()` method. We'll use this to check the countries. We can select the name either using bracket or dot notation. (While we suggested using brackets above, it *is* sometimes easier to use dot notation. Just be careful.)"
      ],
      "metadata": {
        "id": "oNNcGXhRAVlO"
      }
    },
    {
      "cell_type": "code",
      "execution_count": null,
      "source": [
        "unemployment.name_en.unique()"
      ],
      "outputs": [],
      "metadata": {
        "scrolled": true,
        "id": "q4qTmGArAVlO"
      }
    },
    {
      "cell_type": "markdown",
      "source": [
        "To get a count of the **number of unique countries,** we can either wrap the above code with `len()` to get the number of items in the array, or we can use the  `Series.nunique()` method."
      ],
      "metadata": {
        "id": "ALClqcLfAVlO"
      }
    },
    {
      "cell_type": "code",
      "execution_count": null,
      "source": [
        "unemployment.name_en.nunique()"
      ],
      "outputs": [],
      "metadata": {
        "id": "WYRRfshhAVlO"
      }
    },
    {
      "cell_type": "markdown",
      "source": [
        "It might be more interesting to know **how many observations** we actually have. `pandas` has a `Series` method called `.value_counts()` that returns the counts for the unique values in the `Series`."
      ],
      "metadata": {
        "id": "qu-y7QLZAVlP"
      }
    },
    {
      "cell_type": "code",
      "execution_count": null,
      "source": [
        "unemployment['name_en'].value_counts()"
      ],
      "outputs": [],
      "metadata": {
        "id": "w-v6bOq5AVlP"
      }
    },
    {
      "cell_type": "markdown",
      "source": [
        "By default, the `Series` is sorted by values. If you'd like it sorted by index&mdash;country name in this case&mdash;append the `.sort_index()` method."
      ],
      "metadata": {
        "id": "MrukmJPMAVlP"
      }
    },
    {
      "cell_type": "code",
      "execution_count": null,
      "source": [
        "unemployment['name_en'].value_counts().sort_index()"
      ],
      "outputs": [],
      "metadata": {
        "id": "iQF_sSf5AVlP"
      }
    },
    {
      "cell_type": "markdown",
      "source": [
        "This will be useful for our analysis. The maximum number of observations for a given country for this time period is 1,008 observations. We'll note that certain countries, such as Turkey, have far less data.\n",
        "\n",
        "How about finding the **date range** for this data set? Let's look at the minimum and maximum years."
      ],
      "metadata": {
        "id": "vYbL5W99AVlP"
      }
    },
    {
      "cell_type": "code",
      "execution_count": null,
      "source": [
        "unemployment['year'].min(), unemployment['year'].max()"
      ],
      "outputs": [],
      "metadata": {
        "id": "_sZvbQbRAVlP"
      }
    },
    {
      "cell_type": "markdown",
      "source": [
        "Next, we should pause for a moment and think about what data we really care about. For our purposes, the variable of interest is `unemployment_rate`. The number of observations by country only reflect the number of instances of each country name in the dataset. It is possible, maybe even expected, to have some missing data within those instances. Let's find out **how many unemployment rate values are missing.**"
      ],
      "metadata": {
        "id": "mSqE2E2yAVlQ"
      }
    },
    {
      "cell_type": "code",
      "execution_count": null,
      "source": [
        "unemployment['unemployment_rate'].isnull().sum()"
      ],
      "outputs": [],
      "metadata": {
        "id": "hI2MWrKVAVlQ"
      }
    },
    {
      "cell_type": "markdown",
      "source": [
        "The `.isnull()` method returns a corresponding boolean value for each entry in the unemployment rate `Series`. In Python `True` is equivalent to 1 and `False` is equivalent to 0. Thus, when we add the result (with `.sum()`), we get a count for the *total* number of missing values."
      ],
      "metadata": {
        "id": "2Y53v_yrAVlQ"
      }
    },
    {
      "cell_type": "markdown",
      "source": [
        "### Challenge 9: Exploring unemployment rates\n",
        "\n",
        "What are the minimum and maximum unemployment rates in our data set? Which unemployment rates are most and least common?\n",
        "\n",
        "Hint: look at where we found the minimum and maximum years for a hint to the first question, and use `value_counts` for the second."
      ],
      "metadata": {
        "id": "YXVEFfCpAVlQ"
      }
    },
    {
      "cell_type": "code",
      "execution_count": null,
      "source": [],
      "outputs": [],
      "metadata": {
        "id": "b3in-TZjAVlQ"
      }
    },
    {
      "cell_type": "markdown",
      "source": [
        "## 6. GroupBy"
      ],
      "metadata": {
        "id": "89SMKyctAVlR"
      }
    },
    {
      "cell_type": "markdown",
      "source": [
        "\n",
        "What if we'd like to know how many missing values exist at the *country* level? We can take the main part of what we had above and create a new column in the `DataFrame`."
      ],
      "metadata": {
        "id": "mZxxsioYAVlR"
      }
    },
    {
      "cell_type": "code",
      "execution_count": null,
      "source": [
        "unemployment['unemployment_rate_null'] = unemployment['unemployment_rate'].isnull()"
      ],
      "outputs": [],
      "metadata": {
        "id": "r0-eZyOjAVlR"
      }
    },
    {
      "cell_type": "markdown",
      "source": [
        "To count the **number of missing values for each country,** we introduce the `.groupby()` method."
      ],
      "metadata": {
        "id": "opugtSe5AVlR"
      }
    },
    {
      "cell_type": "code",
      "execution_count": null,
      "source": [
        "unemployment.groupby('name_en')['unemployment_rate_null'].sum()"
      ],
      "outputs": [],
      "metadata": {
        "id": "D8yXb09XAVlR"
      }
    },
    {
      "cell_type": "markdown",
      "source": [
        "Let's explain what just happened. We start with our `DataFrame`. We tell `pandas` that we want to group the data by country name&mdash;that's what goes in the parentheses. Next, we need to tell it what column we'd like to perform the `.sum()` operation on. In this case, it's the indicator for whether or not the unemployment rate was missing.\n",
        "\n",
        "As we saw above, the number of records for each country differs. We might, then, want to have the **missing values by country shown as percentages.** Let's create a new `DataFrame` for this.\n",
        "\n",
        "We'll take the code from above and set the `as_index` parameter to `False`."
      ],
      "metadata": {
        "id": "vDASHTrGAVlS"
      }
    },
    {
      "cell_type": "code",
      "execution_count": null,
      "source": [
        "unemployment_rate = unemployment.groupby('name_en', as_index=False)['unemployment_rate_null'].sum()"
      ],
      "outputs": [],
      "metadata": {
        "id": "j22EV1BGAVlS"
      }
    },
    {
      "cell_type": "code",
      "execution_count": null,
      "source": [
        "unemployment_rate.head(3)"
      ],
      "outputs": [],
      "metadata": {
        "id": "dTFZlEukAVlS"
      }
    },
    {
      "cell_type": "markdown",
      "source": [
        "`unemployment_rate` is a `DataFrame` with the information from cell 34, above. It's important to note that using `as_index=False` in `.groupby()` only works if the grouping column(s) are not the same as the columns on which we're performing the operation.\n",
        "\n",
        "Also, to group by several columns, simply pass in a list of column names to `.groupby()`.\n",
        "\n",
        "```\n",
        "unemployment.groupby(['name_en', 'seasonality'])['unemployment_rate'].mean()\n",
        "```\n",
        "\n",
        "Now, let's add the number of observations by country to the `DataFrame`."
      ],
      "metadata": {
        "id": "s1mwBz6mAVlT"
      }
    },
    {
      "cell_type": "code",
      "execution_count": null,
      "source": [
        "unemployment_rate['n_obs'] = unemployment.groupby('name_en')['name_en'].count().values"
      ],
      "outputs": [],
      "metadata": {
        "id": "-Q4ZPX1FAVlT"
      }
    },
    {
      "cell_type": "markdown",
      "source": [
        "Here, we need to use the `values` attribute to get an array of the counts. Excluding `values` will result in a column full of `NaN`s. This is because the index in `unemployment.groupby('name_en')['name_en'].count()` is a list of the country names. When creating a new column, `pandas` tries to match on index. Recall that the default index values for a `DataFrame` is a sequence of integers.\n",
        "\n",
        "Because we know (or have noticed) that the `.groupby()` function returns the values in alphabetical order, we can simply set the new column to the list of values, as we have done. You can, however, be more explicit and create another `DataFrame` and merge on country name.\n",
        "\n",
        "Finally, let's create the column for the percentage of missing values."
      ],
      "metadata": {
        "id": "nYuQStwrAVlT"
      }
    },
    {
      "cell_type": "code",
      "execution_count": null,
      "source": [
        "unemployment_rate['null_percentage'] = unemployment_rate['unemployment_rate_null'] / unemployment_rate['n_obs']"
      ],
      "outputs": [],
      "metadata": {
        "id": "1e3KnwgMAVlT"
      }
    },
    {
      "cell_type": "code",
      "execution_count": null,
      "source": [
        "unemployment_rate"
      ],
      "outputs": [],
      "metadata": {
        "id": "zu1GV0Y2AVlU"
      }
    },
    {
      "cell_type": "markdown",
      "source": [
        "This is the second time we've called a `DataFrame` without something like `.head()`. Let's describe what it does. By default, `pandas` prints 60 rows. In this case, because there are only 30 countries, we see the entire `DataFrame`."
      ],
      "metadata": {
        "id": "B7eNmgdvAVlU"
      }
    },
    {
      "cell_type": "markdown",
      "source": [
        "### Challenge 10: GroupBy \n",
        "\n",
        "Find the average unemployment rate for European Union vs. non-European Union countries. \n",
        "\n",
        "1. use `groupby` to group on \"country_group\"\n",
        "2. select the \"unemployment_rate\" column\n",
        "3. use `.mean()` to get the average"
      ],
      "metadata": {
        "id": "4v_f5txqAVlU"
      }
    },
    {
      "cell_type": "code",
      "execution_count": null,
      "source": [],
      "outputs": [],
      "metadata": {
        "id": "PdQpz9E8AVlU"
      }
    },
    {
      "cell_type": "markdown",
      "source": [
        "## 7. Exporting A DataFrame to csv <a id=\"section7\"/>\n",
        "\n",
        "As we can see, Croatia has lots of missing data. This `DataFrame` contains useful information&mdash;things to consider&mdash;when analyzing the data.\n",
        "\n",
        "Suppose we wanted to save this as a .csv file. For this, we'd use the `.to_csv()` method."
      ],
      "metadata": {
        "id": "VsjlsBbcAVlV"
      }
    },
    {
      "cell_type": "code",
      "execution_count": null,
      "source": [
        "unemployment_rate.to_csv('data/unemployment_missing.csv')"
      ],
      "outputs": [],
      "metadata": {
        "id": "hSQ5AlR9AVlV"
      }
    },
    {
      "cell_type": "markdown",
      "source": [
        "Let's look at our file."
      ],
      "metadata": {
        "id": "cDuLbKJ1AVlV"
      }
    },
    {
      "cell_type": "code",
      "execution_count": null,
      "source": [
        "!head -5 data/unemployment_missing.csv"
      ],
      "outputs": [],
      "metadata": {
        "id": "4Ic7A238AVlV"
      }
    },
    {
      "cell_type": "markdown",
      "source": [
        "By default, this method writes the indices. We probably don't want that. Let's edit the code. Let's also be explicit about the type of delimiter we're interested in. (Values can be separated by pipes (`|`), semicolons (`;`), tabs (`\\t`), etc.)"
      ],
      "metadata": {
        "id": "dUCzkIpDAVlV"
      }
    },
    {
      "cell_type": "code",
      "execution_count": null,
      "source": [
        "unemployment_rate.to_csv('data/unemployment_missing.csv', index=False, sep=',')"
      ],
      "outputs": [],
      "metadata": {
        "id": "crPDyHQtAVlW"
      }
    },
    {
      "cell_type": "code",
      "execution_count": null,
      "source": [
        "!head -5 data/unemployment_missing.csv"
      ],
      "outputs": [],
      "metadata": {
        "id": "YCmh6tOgAVlW"
      }
    },
    {
      "cell_type": "markdown",
      "source": [
        "Much better!\n",
        "\n",
        "Let's return to our main `DataFrame`. Now that we have the missing values information in `unemployment_rate`, we can **drop the last column** we added to `unemployment`."
      ],
      "metadata": {
        "id": "EEv-Y9yXAVlW"
      }
    },
    {
      "cell_type": "code",
      "execution_count": null,
      "source": [
        "unemployment.drop('unemployment_rate_null', axis=1, inplace=True)"
      ],
      "outputs": [],
      "metadata": {
        "id": "-9jOrRtRAVlX"
      }
    },
    {
      "cell_type": "markdown",
      "source": [
        "It's important to specify the `axis` parameter. `axis=1` refers to columns (`axis=0` refers to rows.) The parameter `inplace=True` simply modifies the actual `DataFrame` rather than returning a new `DataFrame`."
      ],
      "metadata": {
        "id": "J_cBYZzvAVlX"
      }
    },
    {
      "cell_type": "code",
      "execution_count": null,
      "source": [
        "unemployment.head()"
      ],
      "outputs": [],
      "metadata": {
        "id": "PxKUloQOAVlX"
      }
    },
    {
      "cell_type": "markdown",
      "source": [
        "## 8. Dealing With Missing Values: Boolean Indexing <a id=\"section8\"/>\n",
        "\n",
        "Now that we know about the missing values, we have to deal with them. There are two main options:\n",
        "\n",
        "* Fill the missing values with some other values.\n",
        "* Do not use observations with missing values.\n",
        "    * Depending on the analysis, we may want to exclude entire countries.\n",
        "    \n",
        "Because countries with missing unemployment rate data have at least 36 missing values, which is too many to fill, we'll take the second approach and **exclude missing values** from our primary analyses.\n",
        "\n",
        "Instead of just getting rid of that data, it might make sense to store it in a separate `DataFrame`. This way, we could answer questions such as, \"do missing values occur during certain months (or years) more frequently?\" With this, we will introduce the concept of *boolean indexing* for filtering data."
      ],
      "metadata": {
        "id": "bH-vzw_BAVlX"
      }
    },
    {
      "cell_type": "code",
      "execution_count": null,
      "source": [
        "unemployment_rate_missing = unemployment[unemployment['unemployment_rate'].isnull()]"
      ],
      "outputs": [],
      "metadata": {
        "id": "oNjLrAqBAVlY"
      }
    },
    {
      "cell_type": "markdown",
      "source": [
        "Recall that `unemployment['unemployment_rate'].isnull()` produces an array of boolean values. We used this previously when counting the number of missing values, though we did not see its output. Let's see some of that now."
      ],
      "metadata": {
        "id": "iuQXbzjtAVlY"
      }
    },
    {
      "cell_type": "code",
      "execution_count": null,
      "source": [
        "unemployment['unemployment_rate'].isnull()[:10]"
      ],
      "outputs": [],
      "metadata": {
        "id": "Bz9QZF0hAVlY"
      }
    },
    {
      "cell_type": "markdown",
      "source": [
        "To create `unemployment_rate_missing`, we're indexing `unemployment` with the array above. This returns only the rows where the value in the array is `True`. Let's see if it worked."
      ],
      "metadata": {
        "id": "5-D4qdTHAVlY"
      }
    },
    {
      "cell_type": "code",
      "execution_count": null,
      "source": [
        "unemployment_rate_missing.head()"
      ],
      "outputs": [],
      "metadata": {
        "id": "ajFkYDLWAVlY"
      }
    },
    {
      "cell_type": "markdown",
      "source": [
        "It is also possible to specify multiple conditions using the `&` operator, but each condition needs to be inside of parentheses. The `.isin()` method, which takes a `list` of values, is useful when you're interested in conditioning on multiple values on a given column. For example, if you want to select multiple countries.\n",
        "\n",
        "Now, we're ready to remove the missing data in `unemployment`. To do this, we can use the `.dropna()` method."
      ],
      "metadata": {
        "id": "Vo2TCic5AVlZ"
      }
    },
    {
      "cell_type": "code",
      "execution_count": null,
      "source": [
        "unemployment.dropna(subset=['unemployment_rate'], inplace=True)"
      ],
      "outputs": [],
      "metadata": {
        "id": "XQSjkP99AVlZ"
      }
    },
    {
      "cell_type": "markdown",
      "source": [
        "(Note that while we have dropped all observations for which `unemployment_rate == NaN`, this doesn't mean that all of our observations overlap exactly in time. We may find that there are dates where we have data for one country and no data for others.)"
      ],
      "metadata": {
        "id": "xGTTgNb9AVlZ"
      }
    },
    {
      "cell_type": "markdown",
      "source": [
        "### Challenge 11: Boolean Indexing\n",
        "Suppose we only want to look at unemployment data from the year 2000 or later. Use Boolean indexing to create a DataFrame with only these years.\n",
        "\n",
        "1. Select the \"year\" column from `unemployment`\n",
        "2. Using the year data, create a **mask**: an array of Booleans where each value is True if and only if the year is 2000 or later. Remember, you can use Boolean operators like `>`, `<`, and `==` on a column\n",
        "3. Use the mask from step 2 to index `unemployment`"
      ],
      "metadata": {
        "id": "mgUq6wISAVlZ"
      }
    },
    {
      "cell_type": "code",
      "execution_count": null,
      "source": [
        "# select the year column from unemployment\r\n",
        "year = ...\r\n",
        "\r\n",
        "# create a mask\r\n",
        "later_or_equal_2000 = ...\r\n",
        "\r\n",
        "# Boolean index unemployment\r\n",
        "..."
      ],
      "outputs": [],
      "metadata": {
        "id": "FsP2u18FAVlZ"
      }
    },
    {
      "cell_type": "markdown",
      "source": [
        "## 9. Sorting Values\n",
        "\n",
        "At this point, you might be curious to know what the highest unemployment rates were. For this, we'll use the `DataFrame.sort_values()` method to **sort the data.**"
      ],
      "metadata": {
        "id": "JoJ2eryjAVlZ"
      }
    },
    {
      "cell_type": "code",
      "execution_count": null,
      "source": [
        "unemployment.sort_values('unemployment_rate', ascending=False)[:5]"
      ],
      "outputs": [],
      "metadata": {
        "id": "3Ixd0VdaAVla"
      }
    },
    {
      "cell_type": "markdown",
      "source": [
        "The above code creates a copy of the `DataFrame`, sorted in *descending* order, and prints the first five rows.\n",
        "\n",
        "You may have noticed that the data set includes a `seasonality` column, which we haven't yet discussed. The unemployment rate in this data is actually calculated in three separate ways. Let's look at the values."
      ],
      "metadata": {
        "id": "ZgYw5gYRAVla"
      }
    },
    {
      "cell_type": "code",
      "execution_count": null,
      "source": [
        "unemployment['seasonality'].unique()"
      ],
      "outputs": [],
      "metadata": {
        "id": "E8cb2tBCAVla"
      }
    },
    {
      "cell_type": "markdown",
      "source": [
        "The three options above correspond to:\n",
        "\n",
        "* not seasonally adjusted\n",
        "* seasonally adjusted\n",
        "* trend cycle\n",
        "\n",
        "We'll stick with seasonally adjusted data so that the values are more comparable. Let's look at the highest unemployment rates in this context."
      ],
      "metadata": {
        "id": "hCqJWU_YAVla"
      }
    },
    {
      "cell_type": "code",
      "execution_count": null,
      "source": [
        "unemployment[unemployment['seasonality'] == 'sa'].sort_values('unemployment_rate', ascending=False)[:5]"
      ],
      "outputs": [],
      "metadata": {
        "id": "YJ-xdceeAVla"
      }
    },
    {
      "cell_type": "markdown",
      "source": [
        "Spain has the highest seasonally adjusted unemployment rate.\n",
        "\n"
      ],
      "metadata": {
        "id": "q14MFD0qAVlb"
      }
    },
    {
      "cell_type": "markdown",
      "source": [
        "## 10. Plotting With Pandas\n",
        "\n",
        "The best way to get a sense of this data is to **plot it.** Next, we'll start to look at some basic plotting with `pandas`. Before we begin, let's sort the data by country and date. This is good practice and is especially important when using `pandas`'s `.plot()` method because the x-axis values are based on the indices. When we sort, the index values remain unchanged. Thus, we need to reset them. The `drop` parameter tells `pandas` to construct a `DataFrame` *without* adding a column."
      ],
      "metadata": {
        "id": "PxaaNgosAVlb"
      }
    },
    {
      "cell_type": "code",
      "execution_count": null,
      "source": [
        "unemployment.sort_values(['name_en', 'year_month'], inplace=True)\r\n",
        "unemployment.reset_index(drop=True, inplace=True)"
      ],
      "outputs": [],
      "metadata": {
        "id": "hmypfPA-AVlb"
      }
    },
    {
      "cell_type": "markdown",
      "source": [
        "Let's take a look at Spain's unemployment rate (only because it was the highest) across time."
      ],
      "metadata": {
        "id": "jViWg6g2AVlc"
      }
    },
    {
      "cell_type": "code",
      "execution_count": null,
      "source": [
        "spain = unemployment[(unemployment['name_en'] == 'Spain') &\r\n",
        "                     (unemployment['seasonality'] == 'sa')]"
      ],
      "outputs": [],
      "metadata": {
        "id": "_ZdnuxU4AVlc"
      }
    },
    {
      "cell_type": "code",
      "execution_count": null,
      "source": [
        "spain['unemployment_rate'].plot(figsize=(10, 8), color='#348ABD')"
      ],
      "outputs": [],
      "metadata": {
        "id": "F-a0Zw40AVlc"
      }
    },
    {
      "cell_type": "markdown",
      "source": [
        "Note that the values along the x-axis represent the indices associated with Spain in the sorted `unemployment` `DataFrame`. Wouldn't it be nice if, instead, we could **show the time period** associated with the various unemployment rates for Spain? It might also be interesting to **compare** Spain's unemployment rate with its neighbor to the west, Portugal.\n",
        "\n",
        "Let's first create a `DataFrame` that contains the unemployment data for both countries."
      ],
      "metadata": {
        "id": "BikyWuXDAVld"
      }
    },
    {
      "cell_type": "code",
      "execution_count": null,
      "source": [
        "ps = unemployment[(unemployment['name_en'].isin(['Portugal', 'Spain'])) &\r\n",
        "                  (unemployment['seasonality'] == 'sa')]"
      ],
      "outputs": [],
      "metadata": {
        "id": "ryWzCKMvAVld"
      }
    },
    {
      "cell_type": "markdown",
      "source": [
        "Next, we'll **generate time series data** by converting our years and months into `datetime` objects. `pandas` provides a `to_datetime()` function that makes this relatively simple. It converts an argument&mdash;a single value or an array of values&mdash;to `datetime`. (Note that the return value [depends on the input](http://pandas.pydata.org/pandas-docs/stable/generated/pandas.to_datetime.html).) If we were interested in March 23, 1868, for example, we could do the following."
      ],
      "metadata": {
        "id": "6lLYrZDLAVld"
      }
    },
    {
      "cell_type": "code",
      "execution_count": null,
      "source": [
        "pd.to_datetime('1868/3/23')"
      ],
      "outputs": [],
      "metadata": {
        "id": "9y5xFD2SAVld"
      }
    },
    {
      "cell_type": "markdown",
      "source": [
        "The argument doesn't necessarily have to be specified in the `yyyy/mm/dd` format. You could list it as `mm/dd/yyyy`, but it's a good idea to be explicit. As a result, we pass in a valid string format."
      ],
      "metadata": {
        "id": "pb03lL4KAVld"
      }
    },
    {
      "cell_type": "code",
      "execution_count": null,
      "source": [
        "pd.to_datetime('3/23/1868', format='%m/%d/%Y')"
      ],
      "outputs": [],
      "metadata": {
        "id": "pErZHu1nAVld"
      }
    },
    {
      "cell_type": "markdown",
      "source": [
        "Let's create the `datetime` object and add it to the `DataFrame` as a column named `date`. For this, we'll use the `DataFrame.insert()` method."
      ],
      "metadata": {
        "id": "ZsHhj9S2AVle"
      }
    },
    {
      "cell_type": "code",
      "execution_count": null,
      "source": [
        "ps.insert(loc=0, column='date',\r\n",
        "          value=pd.to_datetime(ps['year'].astype(str) + '/' + ps['month'].astype(str) + '/1'))"
      ],
      "outputs": [],
      "metadata": {
        "id": "9joEG_peAVle"
      }
    },
    {
      "cell_type": "markdown",
      "source": [
        "Finally, let's only keep certain columns, rename them, and reshape the `DataFrame`."
      ],
      "metadata": {
        "id": "iGhMNVMZAVle"
      }
    },
    {
      "cell_type": "code",
      "execution_count": null,
      "source": [
        "ps = ps[['date', 'name_en', 'unemployment_rate']]\r\n",
        "ps.columns = ['Time Period', 'Country', 'Unemployment Rate']\r\n",
        "ps = ps.pivot(index='Time Period', columns='Country', values='Unemployment Rate')\r\n",
        "ps.tail()"
      ],
      "outputs": [],
      "metadata": {
        "id": "9l9gEjsCAVle"
      }
    },
    {
      "cell_type": "code",
      "execution_count": null,
      "source": [
        "ps.head()"
      ],
      "outputs": [],
      "metadata": {
        "id": "I637jXroAVle"
      }
    },
    {
      "cell_type": "markdown",
      "source": [
        "Notice the indices."
      ],
      "metadata": {
        "id": "lAdxtx8GAVlf"
      }
    },
    {
      "cell_type": "code",
      "execution_count": null,
      "source": [
        "ps.plot(figsize=(10, 8), title='Unemployment Rate\\n')"
      ],
      "outputs": [],
      "metadata": {
        "id": "J0DJC_mJAVlf"
      }
    },
    {
      "cell_type": "markdown",
      "source": [
        "### Challenge 12: Plot without missing values\n",
        "Note that there are some dates for which we lack data on Spain's unemployment rate. What could you do if you wanted your plot to show only dates where both Spain and Portugal have a defined unemployment rate?"
      ],
      "metadata": {
        "collapsed": true,
        "id": "lMZMlHohAVlf"
      }
    },
    {
      "cell_type": "code",
      "execution_count": null,
      "source": [],
      "outputs": [],
      "metadata": {
        "id": "Mi6eTeSDAVlf"
      }
    }
  ]
}