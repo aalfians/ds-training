{
  "nbformat": 4,
  "nbformat_minor": 2,
  "metadata": {
    "colab": {
      "name": "Python basics",
      "provenance": []
    },
    "kernelspec": {
      "name": "python3",
      "display_name": "Python 3.7.6 64-bit ('base': conda)"
    },
    "language_info": {
      "name": "python",
      "version": "3.7.6",
      "mimetype": "text/x-python",
      "codemirror_mode": {
        "name": "ipython",
        "version": 3
      },
      "pygments_lexer": "ipython3",
      "nbconvert_exporter": "python",
      "file_extension": ".py"
    },
    "interpreter": {
      "hash": "b3ba2566441a7c06988d0923437866b63cedc61552a5af99d1f4fb67d367b25f"
    }
  },
  "cells": [
    {
      "cell_type": "markdown",
      "source": [
        "Notebook ini dipersiapkan oleh Agung Alfiansyah."
      ],
      "metadata": {
        "id": "zbJ2fw29OHAX"
      }
    },
    {
      "cell_type": "markdown",
      "source": [
        "# Welcome"
      ],
      "metadata": {
        "id": "JbVT11Y8CbAu"
      }
    },
    {
      "cell_type": "markdown",
      "source": [
        "Selamat datang di sesi praktek yang pertama di pelatihan ini! Pada kesemempata ini kita akan belajar mengenai bahasa pemrograman yang akan digunakan pada training kali ini, yakni: Python. Selain itu beberapa tools penunjang lain yang menjadi pendukung utama dalan data science juga akan dibahas, diantaranya adalah Numpy, Pandas dan Matplotlib. "
      ],
      "metadata": {
        "id": "kw1B2R_WCU7X"
      }
    },
    {
      "cell_type": "markdown",
      "source": [
        "# Notebooks"
      ],
      "metadata": {
        "id": "YV4sYCn8EPwb"
      }
    },
    {
      "cell_type": "markdown",
      "source": [
        "This week, we will use Jupyter notebooks and Google colab as the primary way to practice machine learning. Notebooks are a great way to mix executable code with rich contents (HTML, images, equations written in LaTeX). Colab allows to run notebooks on the cloud for free without any prior installation, while leveraging the power of [GPUs](https://en.wikipedia.org/wiki/Graphics_processing_unit)."
      ],
      "metadata": {
        "id": "2HuuwOcQEYQI"
      }
    },
    {
      "cell_type": "markdown",
      "source": [
        "The document that you are reading is not a static web page, but an interactive environment called a notebook, that lets you write and execute code. Notebooks consist of so-called code cells, blocks of one or more Python instructions. For example, here is a code cell that stores the result of a computation (the number of seconds in a day) in a variable and prints its value:"
      ],
      "metadata": {
        "id": "t0XmMkPuGGOs"
      }
    },
    {
      "cell_type": "code",
      "execution_count": 1,
      "source": [
        "seconds_in_a_day = 12 * 60 * 60\r\n",
        "seconds_in_a_day"
      ],
      "outputs": [
        {
          "output_type": "execute_result",
          "data": {
            "text/plain": [
              "43200"
            ]
          },
          "metadata": {},
          "execution_count": 1
        }
      ],
      "metadata": {
        "id": "qeGAvLq1ALJ4",
        "colab": {
          "base_uri": "https://localhost:8080/",
          "height": 34
        },
        "outputId": "da0a439d-bbbe-4bca-ae88-9681dc307b33"
      }
    },
    {
      "cell_type": "markdown",
      "source": [
        "Untuk menjalankan script pada satu cell tertentu, kita bisa melakukannya dengan menekan tombol \"play\" dan hasil dari komputasi tersebut akan muncul dengan segera. Hal yang sama juga bisa dilakukan dengan menekan Ctrl + Enter."
      ],
      "metadata": {
        "id": "njoPs3q1G75-"
      }
    },
    {
      "cell_type": "markdown",
      "source": [
        "Variable yang didefinisikan pada satu cell, bisa digunakan lagi pada cell-cell selanjutnya."
      ],
      "metadata": {
        "id": "NvdYaBgHHdbw"
      }
    },
    {
      "cell_type": "code",
      "execution_count": 2,
      "source": [
        "seconds_in_a_week = 7 * seconds_in_a_day\r\n",
        "seconds_in_a_week"
      ],
      "outputs": [
        {
          "output_type": "execute_result",
          "data": {
            "text/plain": [
              "302400"
            ]
          },
          "metadata": {},
          "execution_count": 2
        }
      ],
      "metadata": {
        "id": "s1kp5Zv0JBSx",
        "colab": {
          "base_uri": "https://localhost:8080/",
          "height": 34
        },
        "outputId": "5c3d203f-046d-4555-d398-36e91dbe685c"
      }
    },
    {
      "cell_type": "markdown",
      "source": [
        "Urutan eksekusi dari tiap cell perlu dipertimbangkan, jika satu cell yang menyimpan satu variable tertentu belum dieksekusi maka variable tersebut seolah-olah belum ada. Jika pada cell selanjutnya ada yang menggunakan variable tersebut, maka ada kesalahan karena hal tersebut. \r\n",
        "\r\n",
        "Untuk mencegah hal tersebut terjadi, satu tips yang mungkin berguna: click \"Runtime\" di top-level menu, kemudian \"Run all\"."
      ],
      "metadata": {
        "id": "uALfY4q1JFQ0"
      }
    },
    {
      "cell_type": "markdown",
      "source": [
        "**Latihan.** Hitunglah jumlah detik dalam satu tahun pada cell baru di bawah cell ini. Untuk membuat cell baru yang berisi script dengan melakukan click pada \"+ Code\". Untuk perhitungan tersebut, gunakana kembali variable  *seconds_in_a_day* yang sudah ada sebelumnya. Jalankan cell baru tersebut dan cek hasil yang ditampilkan."
      ],
      "metadata": {
        "id": "HvXs_KaoRWQ9"
      }
    },
    {
      "cell_type": "markdown",
      "source": [
        "# Python"
      ],
      "metadata": {
        "id": "qyLSwlxnJqXX"
      }
    },
    {
      "cell_type": "markdown",
      "source": [
        "Python adalah satu dari beberapa bahasa pemrograman yang sangat luas digunakan dalam _data science_, _machine learning_ ataupun _artificial intelligence_, tidak hanya di kalangan akademis, tetapi juga di industri. Meskipun pada akhirnya bahasa pemrograman hanyalah tools, tetapi hal ini menjadi bagian yang sangat penting dalam mengimplementasikan metodologi dan teknik yang digunakan dalam **data science*\r\n",
        "\r\n",
        "Pada section ini, kita akan melakukan review tentang hal-hal yang ada dalam bahasa pemrograman Python."
      ],
      "metadata": {
        "id": "3ltwm91eJyQM"
      }
    },
    {
      "cell_type": "markdown",
      "source": [
        "## Operasi Arithmetika"
      ],
      "metadata": {
        "id": "3EKvP6jiMZ9H"
      }
    },
    {
      "cell_type": "markdown",
      "source": [
        "Beberapa operasi dasar yang secara dasar didikung oleh Python antara lain adalah:\r\n",
        "1. Operasi matematis, seperti: + (addition), - (substraction), * (multiplication), / (division), ** (power), // (integer division). \r\n",
        "2. Operasi Logika (and, or, not)\r\n",
        "3. Operasi pembandingan (==, >., <, ...) "
      ],
      "metadata": {
        "id": "DDjs0-7YQ80h"
      }
    },
    {
      "cell_type": "markdown",
      "source": [
        "## Lists"
      ],
      "metadata": {
        "id": "UhcbBQUiStHG"
      }
    },
    {
      "cell_type": "markdown",
      "source": [
        "Lists adalah satu jenis *container* yang berisi datatype for ordered sequences of elements. Lists bisa diinisialisasi dengan menggunakan himpunan kosong."
      ],
      "metadata": {
        "id": "RkPn1IjNTCxA"
      }
    },
    {
      "cell_type": "code",
      "execution_count": 3,
      "source": [
        "my_list = []"
      ],
      "outputs": [],
      "metadata": {
        "id": "OrnV1ySAPtHp"
      }
    },
    {
      "cell_type": "markdown",
      "source": [
        "ataupun dengan satu susunan anggota-anggota tertentu."
      ],
      "metadata": {
        "id": "OwRqyYI9XnPK"
      }
    },
    {
      "cell_type": "code",
      "execution_count": 57,
      "source": [
        "my_list = [1, 2, 3]\r\n",
        "my_animal_list = [\"cow\", \"lamb\", \"deer\", \"birds\"]\r\n",
        "my_fruit_list = [\"apple\", \"blueberry\", \"cherry\", [\"durian\", \"dates\"]]\r\n",
        "\r\n",
        "my_list;\r\n",
        "my_animal_list;\r\n",
        "my_fruit_list;\r\n"
      ],
      "outputs": [
        {
          "output_type": "execute_result",
          "data": {
            "text/plain": [
              "['apple', 'blueberry', 'cherry', ['durian', 'dates']]"
            ]
          },
          "metadata": {},
          "execution_count": 57
        }
      ],
      "metadata": {
        "id": "Uq5YTJ1JXpOX"
      }
    },
    {
      "cell_type": "markdown",
      "source": [
        "Lists mempunyai sifat yang dinamis, ukuran dam elemen yang ada bisa ditambah (dengan 'append') ataupun dikurangi (dengan 'remove)"
      ],
      "metadata": {
        "id": "Hk2WmojJXyyz"
      }
    },
    {
      "cell_type": "code",
      "execution_count": 55,
      "source": [
        "my_list.append(4)\r\n",
        "my_list"
      ],
      "outputs": [
        {
          "output_type": "execute_result",
          "data": {
            "text/plain": [
              "[1, 2, 3, 4]"
            ]
          },
          "metadata": {},
          "execution_count": 55
        }
      ],
      "metadata": {
        "id": "QFTNqiYiXxAh",
        "colab": {
          "base_uri": "https://localhost:8080/",
          "height": 34
        },
        "outputId": "720d3340-7df7-49b8-c920-964d2e350af5"
      }
    },
    {
      "cell_type": "markdown",
      "source": [
        "We can access individual elements of a list (indexing starts from 0)"
      ],
      "metadata": {
        "id": "IUnJuqQ2Yhzw"
      }
    },
    {
      "cell_type": "code",
      "execution_count": 6,
      "source": [
        "my_list[2]"
      ],
      "outputs": [
        {
          "output_type": "execute_result",
          "data": {
            "text/plain": [
              "3"
            ]
          },
          "metadata": {},
          "execution_count": 6
        }
      ],
      "metadata": {
        "id": "pyFxyZPVYpG_",
        "colab": {
          "base_uri": "https://localhost:8080/",
          "height": 34
        },
        "outputId": "7efb0bc1-25fb-4849-8d3a-cfa62b94a175"
      }
    },
    {
      "cell_type": "markdown",
      "source": [
        "Sebagian (\"slice\") dari list bisa diakses dengan menggunakan perintah `my_list[i:j]` dimana `i` adalah \"index\" awal dari slice (Python memulai indexingdari 0) dan `j` adalah index terakhr dari slice. Dari contoh di atas kita bisa memperoleh :"
      ],
      "metadata": {
        "id": "hPMrIDYsdgMP"
      }
    },
    {
      "cell_type": "code",
      "execution_count": 7,
      "source": [
        "my_list[1:3]"
      ],
      "outputs": [
        {
          "output_type": "execute_result",
          "data": {
            "text/plain": [
              "[2, 3]"
            ]
          },
          "metadata": {},
          "execution_count": 7
        }
      ],
      "metadata": {
        "id": "Ichf9p0gd7tJ",
        "colab": {
          "base_uri": "https://localhost:8080/",
          "height": 34
        },
        "outputId": "5f4ec085-431e-4e16-aab1-8708f2c931d4"
      }
    },
    {
      "cell_type": "markdown",
      "source": [
        "Menghiangkan index kedua mempunyai artinya membaca slice sampai akhir list."
      ],
      "metadata": {
        "id": "KMbzH4tzQ9rI"
      }
    },
    {
      "cell_type": "code",
      "execution_count": 8,
      "source": [
        "my_list[1:]"
      ],
      "outputs": [
        {
          "output_type": "execute_result",
          "data": {
            "text/plain": [
              "[2, 3, 4]"
            ]
          },
          "metadata": {},
          "execution_count": 8
        }
      ],
      "metadata": {
        "id": "O7wCthKnREKV",
        "colab": {
          "base_uri": "https://localhost:8080/",
          "height": 34
        },
        "outputId": "5a04ea59-7a54-4b09-a8ee-3cd6171e8c7a"
      }
    },
    {
      "cell_type": "markdown",
      "source": [
        "Checking apakah satu element tertentu ada di dalam list bisa dilakukan dengan `in`"
      ],
      "metadata": {
        "id": "C5Aeu7PUebrK"
      }
    },
    {
      "cell_type": "code",
      "execution_count": 9,
      "source": [
        "5 in my_list"
      ],
      "outputs": [
        {
          "output_type": "execute_result",
          "data": {
            "text/plain": [
              "False"
            ]
          },
          "metadata": {},
          "execution_count": 9
        }
      ],
      "metadata": {
        "id": "a_P5NCi-efvb",
        "colab": {
          "base_uri": "https://localhost:8080/",
          "height": 34
        },
        "outputId": "5012122e-f02c-4474-ec51-6ef8519e5733"
      }
    },
    {
      "cell_type": "markdown",
      "source": [
        "Fungsi `len` bisa digunakan untuk melihat panjangnya list yang menjadi masukan (argument)"
      ],
      "metadata": {
        "id": "LypIsP5gkl10"
      }
    },
    {
      "cell_type": "code",
      "execution_count": 10,
      "source": [
        "len(my_list)"
      ],
      "outputs": [
        {
          "output_type": "execute_result",
          "data": {
            "text/plain": [
              "4"
            ]
          },
          "metadata": {},
          "execution_count": 10
        }
      ],
      "metadata": {
        "id": "ac0FMsaKkrWc",
        "colab": {
          "base_uri": "https://localhost:8080/",
          "height": 34
        },
        "outputId": "0a7418d2-67a1-419c-e12b-e6ffb3b4b66d"
      }
    },
    {
      "cell_type": "markdown",
      "source": [
        "## Strings"
      ],
      "metadata": {
        "id": "1c3RLStf7G2I"
      }
    },
    {
      "cell_type": "markdown",
      "source": [
        "Strings biasa digunakan untuk menyimpan data yang bersifat text. Data ini biasanya dibatasi dengan menggunakan tanda petik baik tunggal (' ') maupun ganda (\" \")"
      ],
      "metadata": {
        "id": "Jm6hZhgz7KhI"
      }
    },
    {
      "cell_type": "code",
      "execution_count": 11,
      "source": [
        "string1 = \"some text\"\r\n",
        "string2 = 'some other text'"
      ],
      "outputs": [],
      "metadata": {
        "id": "cCma6Oj_7T8n"
      }
    },
    {
      "cell_type": "markdown",
      "source": [
        "String bisa dipandang sebagai *\"list dari karakter-karakter\"* karena kemiripan sifat dari keduanya. Elemen-elemen individual bisa diakses dengan menggunakan cara yang sama."
      ],
      "metadata": {
        "id": "Irr4xuWu7Znu"
      }
    },
    {
      "cell_type": "code",
      "execution_count": 12,
      "source": [
        "string1[3]"
      ],
      "outputs": [
        {
          "output_type": "execute_result",
          "data": {
            "text/plain": [
              "'e'"
            ]
          },
          "metadata": {},
          "execution_count": 12
        }
      ],
      "metadata": {
        "id": "26_POhLO7iM3",
        "colab": {
          "base_uri": "https://localhost:8080/",
          "height": 35
        },
        "outputId": "fa06d3b9-c683-4b05-bedc-36bc43f57bd4"
      }
    },
    {
      "cell_type": "markdown",
      "source": [
        "untuk melakukan slicing"
      ],
      "metadata": {
        "id": "oA_UD0JV7oPw"
      }
    },
    {
      "cell_type": "code",
      "execution_count": 13,
      "source": [
        "string1[5:]"
      ],
      "outputs": [
        {
          "output_type": "execute_result",
          "data": {
            "text/plain": [
              "'text'"
            ]
          },
          "metadata": {},
          "execution_count": 13
        }
      ],
      "metadata": {
        "id": "dcZFcLqQ7qCe",
        "colab": {
          "base_uri": "https://localhost:8080/",
          "height": 35
        },
        "outputId": "aba6c437-ade3-49da-9e6a-9383eab01fa9"
      }
    },
    {
      "cell_type": "markdown",
      "source": [
        "Penggabungan String (concatenation) bisa dilakukan dengan menggunakan operator `+` "
      ],
      "metadata": {
        "id": "hOQ_CIiu76YG"
      }
    },
    {
      "cell_type": "code",
      "execution_count": 14,
      "source": [
        "string1 + \" \" + string2"
      ],
      "outputs": [
        {
          "output_type": "execute_result",
          "data": {
            "text/plain": [
              "'some text some other text'"
            ]
          },
          "metadata": {},
          "execution_count": 14
        }
      ],
      "metadata": {
        "id": "mxqNMKCY79_W",
        "colab": {
          "base_uri": "https://localhost:8080/",
          "height": 35
        },
        "outputId": "e5695c9e-0703-49b3-9608-b57ca8375ba9"
      }
    },
    {
      "cell_type": "markdown",
      "source": [
        "## Conditionals"
      ],
      "metadata": {
        "id": "7Lox2GZCMdIB"
      }
    },
    {
      "cell_type": "markdown",
      "source": [
        "*Conditionals* merupakan salah satu \"bricks\" pembangun pemrograman berkat kemampuanya memilih untuk menjalankan satu instruksi tertentu dari beberapa alternatif dengan memilih apakah satu kondisi `True` atau `False`. Seperti pada bahasa pemrograman yang lain, Python melakukan seleksi kondisi dengan menggunakan pasangan `if` dan `else`. dan keduanya bisa digabungkan dengan menggunakan `elif`  "
      ],
      "metadata": {
        "id": "-gXEAWFZfDTT"
      }
    },
    {
      "cell_type": "code",
      "execution_count": 15,
      "source": [
        "my_variable = 5\r\n",
        "if my_variable < 0:\r\n",
        "  print(\"negative\")\r\n",
        "elif my_variable == 0:\r\n",
        "  print(\"zero\")\r\n",
        "else: # my_variable > 0\r\n",
        "  print(\"positive\")"
      ],
      "outputs": [
        {
          "output_type": "stream",
          "name": "stdout",
          "text": [
            "positive\n"
          ]
        }
      ],
      "metadata": {
        "id": "xC_DMZjofoYZ",
        "colab": {
          "base_uri": "https://localhost:8080/",
          "height": 34
        },
        "outputId": "e86016aa-0ebd-4e0f-e559-326f4b2ce644"
      }
    },
    {
      "cell_type": "markdown",
      "source": [
        "Pada contoh di atas, terlihat beberapa contoh operasi yang melibatkan pembandingan. Cukup jelas bahwa operator pembanding `<` dan `>` berarti lebih besar dan lebih kecil, sedangkan operator `==` mengecek kesamaan dua nilai (bedakan dengan `=` yang digunakan untuk melakukan assignment). Kombinasi dari operator-operator juga diperbolehkan, seperti `<=` dan `>=` untuk lebih kecil/lebih besar atau sama dengan."
      ],
      "metadata": {
        "id": "Ag0SUokSf9jl"
      }
    },
    {
      "cell_type": "markdown",
      "source": [
        "Satu hal yang cukup berbeda dari Python dibandingkan dengan bahasa pemrograman yang lain adalah *blocking*. Bahasa pemrograman ini menggunakan indentasi untuk mengelompokkan beberapa instruksi menjadi satu block, sedangkan bahasa pemrograman lain biasanya menggunakan identifier seperti `{}` atau pasangan keyword `BEGIN` dan `END` untuk menandai satu *blocking* satu program."
      ],
      "metadata": {
        "id": "qTkQ2F_jy8wz"
      }
    },
    {
      "cell_type": "markdown",
      "source": [
        "## Loops"
      ],
      "metadata": {
        "id": "clWaFCzBMfkv"
      }
    },
    {
      "cell_type": "markdown",
      "source": [
        "Looping (perulangan) adalah cara yang umum digunakan dalam bahasa pemrograman untuk menjalankan satu block code program beberapa kali. Secara umum terdapat dua jenis loop: `for` loops dimana *a priori* kita tahu jumlah perulangan harus dilakukan; dan `while` loops dimana kita hanya tahu kondisi syarat (kondisi) perulangan tersebut harus diteruskan atau dihentikan"
      ],
      "metadata": {
        "id": "_A5doqhTivWe"
      }
    },
    {
      "cell_type": "markdown",
      "source": [
        "While loop"
      ],
      "metadata": {
        "id": "YN8lwTxQkGEa"
      }
    },
    {
      "cell_type": "code",
      "execution_count": 16,
      "source": [
        "i = 0\r\n",
        "while i < len(my_list): # ulang selama i < panjang my_list \r\n",
        "  print(my_list[i])     # print nilai my_list ke-i\r\n",
        "  i += 1                # equivalent dengan i = i + 1"
      ],
      "outputs": [
        {
          "output_type": "stream",
          "name": "stdout",
          "text": [
            "1\n",
            "2\n",
            "3\n",
            "4\n"
          ]
        }
      ],
      "metadata": {
        "id": "7-QXGqgOjsr_",
        "colab": {
          "base_uri": "https://localhost:8080/",
          "height": 85
        },
        "outputId": "4a9bdffc-46ba-47ba-e60b-3ea01dcd2d65"
      }
    },
    {
      "cell_type": "markdown",
      "source": [
        "For loop"
      ],
      "metadata": {
        "id": "8mEI_ocfkSvZ"
      }
    },
    {
      "cell_type": "code",
      "execution_count": 17,
      "source": [
        "for i in range(len(my_list)):\r\n",
        "  print(my_list[i])"
      ],
      "outputs": [
        {
          "output_type": "stream",
          "name": "stdout",
          "text": [
            "1\n",
            "2\n",
            "3\n",
            "4\n"
          ]
        }
      ],
      "metadata": {
        "id": "2QObx5mckMcI",
        "colab": {
          "base_uri": "https://localhost:8080/",
          "height": 85
        },
        "outputId": "32c31a79-ef89-4e80-9e76-47540f839cb6"
      }
    },
    {
      "cell_type": "markdown",
      "source": [
        "Iterasi dengan menggunakan `for` juga bisa dilakukan untuk list, sehingga untuk membaca list bisa secara langsung dilakukan dengan menggunakan perintah seperti berikut: "
      ],
      "metadata": {
        "id": "XO6qqppikZvm"
      }
    },
    {
      "cell_type": "code",
      "execution_count": 18,
      "source": [
        "for element in my_list:\r\n",
        "  print(element)"
      ],
      "outputs": [
        {
          "output_type": "stream",
          "name": "stdout",
          "text": [
            "1\n",
            "2\n",
            "3\n",
            "4\n"
          ]
        }
      ],
      "metadata": {
        "id": "PjFKzN6zkeJ7",
        "colab": {
          "base_uri": "https://localhost:8080/",
          "height": 85
        },
        "outputId": "41f3a553-b629-4e52-ad98-7bbe55e0cced"
      }
    },
    {
      "cell_type": "markdown",
      "source": [
        "## Functions"
      ],
      "metadata": {
        "id": "Cck4zwYrex02"
      }
    },
    {
      "cell_type": "markdown",
      "source": [
        "Function adalah pengelompokan code-code perintah tertentu pada bahasa pemrograman menjadi satu blok yang biasanya digunakan untuk menyelesaikan satu tugas khusus yang ditentukan. Function bisa menerima satu atau beberapa input, memprosesnya dan mengeluarkan nilai pemrosesan tersebut sebagai output.\r\n",
        "\r\n",
        "Function sangat berguna dalam meningkatkan *readibility* program yang kita buat. Teknik ini juga memungkinkan *reusability* code yang sudah dibuat untuk digunakan kembali oleh orang lain yang memerlukan dengan menggunakan sifat *abstraksi* dari function. Abstraksi memungkinkan programmer menyembunyikan detail dari implementasi program, cukup mengetahui input dan outputnya saja.    "
      ],
      "metadata": {
        "id": "n1PbIf_ohxFO"
      }
    },
    {
      "cell_type": "code",
      "execution_count": 19,
      "source": [
        "def square(x):\r\n",
        "  return x ** 2\r\n",
        "\r\n",
        "def multiply(a, b):\r\n",
        "  return a * b\r\n",
        "\r\n",
        "# Functions can be composed.\r\n",
        "square(multiply(3, 2))"
      ],
      "outputs": [
        {
          "output_type": "execute_result",
          "data": {
            "text/plain": [
              "36"
            ]
          },
          "metadata": {},
          "execution_count": 19
        }
      ],
      "metadata": {
        "id": "cImA09gOhRmx",
        "colab": {
          "base_uri": "https://localhost:8080/",
          "height": 34
        },
        "outputId": "85834282-56d6-4c17-f188-433f46c50d21"
      }
    },
    {
      "cell_type": "markdown",
      "source": [
        "To improve code readability, it is sometimes useful to explicitly name the arguments"
      ],
      "metadata": {
        "id": "75-5SOk9iYSt"
      }
    },
    {
      "cell_type": "code",
      "execution_count": 20,
      "source": [
        "square(multiply(a=3, b=2))"
      ],
      "outputs": [
        {
          "output_type": "execute_result",
          "data": {
            "text/plain": [
              "36"
            ]
          },
          "metadata": {},
          "execution_count": 20
        }
      ],
      "metadata": {
        "id": "wkIUuZHhidI0",
        "colab": {
          "base_uri": "https://localhost:8080/",
          "height": 34
        },
        "outputId": "acb68380-db78-491c-ce27-8a4664f78ce5"
      }
    },
    {
      "cell_type": "markdown",
      "source": [
        "## Exercises"
      ],
      "metadata": {
        "id": "LkpwbQEVMys2"
      }
    },
    {
      "cell_type": "markdown",
      "source": [
        "**Exercise 1.** Using a conditional, write the [relu](https://en.wikipedia.org/wiki/Rectifier_(neural_networks)) function defined as follows\r\n",
        "\r\n",
        "$\\text{relu}(x) = \\left\\{\r\n",
        "   \\begin{array}{rl}\r\n",
        "     x, & \\text{if }  x \\ge 0 \\\\\r\n",
        "     0, & \\text{otherwise }.\r\n",
        "   \\end{array}\\right.$"
      ],
      "metadata": {
        "id": "ASpVhol9ZXI0"
      }
    },
    {
      "cell_type": "code",
      "execution_count": 21,
      "source": [
        "def relu(x):\r\n",
        "  # Write your function here\r\n",
        "  return\r\n",
        "\r\n",
        "relu(-3)"
      ],
      "outputs": [],
      "metadata": {
        "id": "jlgyu65SaUvr"
      }
    },
    {
      "cell_type": "markdown",
      "source": [
        "**Exercise 2.** Using a foor loop, write a function that computes the [Euclidean norm](https://en.wikipedia.org/wiki/Norm_(mathematics)#Euclidean_norm) of a vector, represented as a list."
      ],
      "metadata": {
        "id": "Y3so0ceoakIw"
      }
    },
    {
      "cell_type": "code",
      "execution_count": 22,
      "source": [
        "def euclidean_norm(vector):\r\n",
        "  # Write your function here\r\n",
        "  return\r\n",
        "\r\n",
        "import numpy as np\r\n",
        "my_vector = [0.5, -1.2, 3.3, 4.5]\r\n",
        "# The result should be roughly 5.729746940310715\r\n",
        "euclidean_norm(my_vector)"
      ],
      "outputs": [],
      "metadata": {
        "id": "-IH-BD41bI1u",
        "colab": {
          "base_uri": "https://localhost:8080/",
          "height": 34
        },
        "outputId": "f45bf668-d55b-494d-ecd7-2f421cbacf15"
      }
    },
    {
      "cell_type": "markdown",
      "source": [
        "**Exercise 3.** Using a for loop and a conditional, write a function that returns the maximum value in a vector."
      ],
      "metadata": {
        "id": "SEXIh_e9cW3S"
      }
    },
    {
      "cell_type": "code",
      "execution_count": 23,
      "source": [
        "def vector_maximum(vector):\r\n",
        "  # Write your function here\r\n",
        "  return"
      ],
      "outputs": [],
      "metadata": {
        "id": "zd9ntMq0cb2e"
      }
    },
    {
      "cell_type": "markdown",
      "source": [
        "**Bonus exercise.** if time permits, write a function that sorts a list in ascending order (from smaller to bigger) using the [bubble sort](https://en.wikipedia.org/wiki/Bubble_sort) algorithm."
      ],
      "metadata": {
        "id": "qPAZA4OMc6sT"
      }
    },
    {
      "cell_type": "code",
      "execution_count": 24,
      "source": [
        "def bubble_sort(my_list):\r\n",
        "  # Write your function here\r\n",
        "  return\r\n",
        "\r\n",
        "my_list = [1, -3, 3, 2]\r\n",
        "# Should return [-3, 1, 2, 3]\r\n",
        "bubble_sort(my_list)"
      ],
      "outputs": [],
      "metadata": {
        "id": "sBokdJO4dGyf"
      }
    },
    {
      "cell_type": "markdown",
      "source": [
        "## Going further"
      ],
      "metadata": {
        "id": "jDxjvtEEM1vg"
      }
    },
    {
      "cell_type": "markdown",
      "source": [
        "Clearly, it is impossible to cover all the language features in this short introduction. To go further, we recommend the following resources:"
      ],
      "metadata": {
        "id": "wRkmvzf-PdEp"
      }
    },
    {
      "cell_type": "markdown",
      "source": [
        "\n",
        "\n",
        "*   List of Python [tutorials](https://wiki.python.org/moin/BeginnersGuide/Programmers)\n",
        "* Four-hour [course](https://www.youtube.com/watch?v=rfscVS0vtbw) on Youtube\n",
        "\n"
      ],
      "metadata": {
        "id": "n8nbPoWclRlH"
      }
    },
    {
      "cell_type": "markdown",
      "source": [
        "# NumPy"
      ],
      "metadata": {
        "id": "6X4WJo3iM6m9"
      }
    },
    {
      "cell_type": "markdown",
      "source": [
        "NumPy is a popular library for storing arrays of numbers and performing computations on them. Not only this enables to write often more succint code, this also makes the code faster, since most NumPy routines are implemented in C for speed."
      ],
      "metadata": {
        "id": "_H3bNbLloXCY"
      }
    },
    {
      "cell_type": "markdown",
      "source": [
        "To use NumPy in your program, you need to import it as follows"
      ],
      "metadata": {
        "id": "M7tI3XLhqwSX"
      }
    },
    {
      "cell_type": "code",
      "execution_count": 25,
      "source": [
        "import numpy as np"
      ],
      "outputs": [],
      "metadata": {
        "id": "phSPPyfyq2gX"
      }
    },
    {
      "cell_type": "markdown",
      "source": [
        "## Array creation\n",
        "\n"
      ],
      "metadata": {
        "id": "9secCfFLNHEE"
      }
    },
    {
      "cell_type": "markdown",
      "source": [
        "NumPy arrays can be created from Python lists"
      ],
      "metadata": {
        "id": "LSS2wEnkq97n"
      }
    },
    {
      "cell_type": "code",
      "execution_count": 26,
      "source": [
        "my_array = np.array([1, 2, 3])\r\n",
        "my_array"
      ],
      "outputs": [
        {
          "output_type": "execute_result",
          "data": {
            "text/plain": [
              "array([1, 2, 3])"
            ]
          },
          "metadata": {},
          "execution_count": 26
        }
      ],
      "metadata": {
        "id": "Hfeg286yrLvJ",
        "colab": {
          "base_uri": "https://localhost:8080/",
          "height": 34
        },
        "outputId": "f498bafc-0373-4258-f479-e27716b193c1"
      }
    },
    {
      "cell_type": "markdown",
      "source": [
        "NumPy supports array of arbitrary dimension. For example, we can create two-dimensional arrays (e.g. to store a matrix) as follows"
      ],
      "metadata": {
        "id": "Sy2EvrxFriAG"
      }
    },
    {
      "cell_type": "code",
      "execution_count": 27,
      "source": [
        "my_2d_array = np.array([[1, 2, 3], [4, 5, 6]])\r\n",
        "my_2d_array"
      ],
      "outputs": [
        {
          "output_type": "execute_result",
          "data": {
            "text/plain": [
              "array([[1, 2, 3],\n",
              "       [4, 5, 6]])"
            ]
          },
          "metadata": {},
          "execution_count": 27
        }
      ],
      "metadata": {
        "id": "wM-GYVMsrzNs",
        "colab": {
          "base_uri": "https://localhost:8080/",
          "height": 51
        },
        "outputId": "3d524d20-cf2c-4d3c-ba08-4552be3a46d8"
      }
    },
    {
      "cell_type": "markdown",
      "source": [
        "We can access individual elements of a 2d-array using two indices"
      ],
      "metadata": {
        "id": "-kZMzYsAsVAc"
      }
    },
    {
      "cell_type": "code",
      "execution_count": 28,
      "source": [
        "my_2d_array[1, 2]"
      ],
      "outputs": [
        {
          "output_type": "execute_result",
          "data": {
            "text/plain": [
              "6"
            ]
          },
          "metadata": {},
          "execution_count": 28
        }
      ],
      "metadata": {
        "id": "4q8X86BbscPd",
        "colab": {
          "base_uri": "https://localhost:8080/",
          "height": 34
        },
        "outputId": "3cefe32a-690a-4744-fad9-9c3edd763cd6"
      }
    },
    {
      "cell_type": "markdown",
      "source": [
        "We can also access rows"
      ],
      "metadata": {
        "id": "OfVIKyxkTh0p"
      }
    },
    {
      "cell_type": "code",
      "execution_count": 29,
      "source": [
        "my_2d_array[1]"
      ],
      "outputs": [
        {
          "output_type": "execute_result",
          "data": {
            "text/plain": [
              "array([4, 5, 6])"
            ]
          },
          "metadata": {},
          "execution_count": 29
        }
      ],
      "metadata": {
        "id": "CrKnDAtyTlYe",
        "colab": {
          "base_uri": "https://localhost:8080/",
          "height": 34
        },
        "outputId": "14060c28-8ee7-48f5-f0ca-bdcff12cc421"
      }
    },
    {
      "cell_type": "markdown",
      "source": [
        "and columns"
      ],
      "metadata": {
        "id": "hskLBCp9ToCG"
      }
    },
    {
      "cell_type": "code",
      "execution_count": 30,
      "source": [
        "my_2d_array[:, 2]"
      ],
      "outputs": [
        {
          "output_type": "execute_result",
          "data": {
            "text/plain": [
              "array([3, 6])"
            ]
          },
          "metadata": {},
          "execution_count": 30
        }
      ],
      "metadata": {
        "id": "MOOFsLHhTozX",
        "colab": {
          "base_uri": "https://localhost:8080/",
          "height": 34
        },
        "outputId": "8802a59a-0812-40a4-f930-ab2a3302bf46"
      }
    },
    {
      "cell_type": "markdown",
      "source": [
        "Arrays have a `shape` attribute"
      ],
      "metadata": {
        "id": "keWK_5PHr9Q2"
      }
    },
    {
      "cell_type": "code",
      "execution_count": 31,
      "source": [
        "print(my_array.shape)\r\n",
        "print(my_2d_array.shape)"
      ],
      "outputs": [
        {
          "output_type": "stream",
          "name": "stdout",
          "text": [
            "(3,)\n",
            "(2, 3)\n"
          ]
        }
      ],
      "metadata": {
        "id": "5QIo7l1Yr8m7",
        "colab": {
          "base_uri": "https://localhost:8080/",
          "height": 51
        },
        "outputId": "357d4218-541d-4c7f-8bcf-b3f4523b1fa3"
      }
    },
    {
      "cell_type": "markdown",
      "source": [
        "Contrary to Python lists, NumPy arrays must have a type and all elements of the array must have the same type."
      ],
      "metadata": {
        "id": "LmX0EDWVsoDY"
      }
    },
    {
      "cell_type": "code",
      "execution_count": 32,
      "source": [
        "my_array.dtype"
      ],
      "outputs": [
        {
          "output_type": "execute_result",
          "data": {
            "text/plain": [
              "dtype('int32')"
            ]
          },
          "metadata": {},
          "execution_count": 32
        }
      ],
      "metadata": {
        "id": "FZjOowkls57o",
        "colab": {
          "base_uri": "https://localhost:8080/",
          "height": 34
        },
        "outputId": "abb3edab-a903-40c8-f88a-1125fc6d4dbf"
      }
    },
    {
      "cell_type": "markdown",
      "source": [
        "The main types are `int32` (32-bit integers), `int64` (64-bit integers), `float32` (32-bit real values) and `float64` (64-bit real values)."
      ],
      "metadata": {
        "id": "i5AvLdf7tGnZ"
      }
    },
    {
      "cell_type": "markdown",
      "source": [
        "The `dtype` can be specified when creating the array"
      ],
      "metadata": {
        "id": "w8ym2qZCt9Nm"
      }
    },
    {
      "cell_type": "code",
      "execution_count": 33,
      "source": [
        "my_array = np.array([1, 2, 3], dtype=np.float64)\r\n",
        "my_array.dtype"
      ],
      "outputs": [
        {
          "output_type": "execute_result",
          "data": {
            "text/plain": [
              "dtype('float64')"
            ]
          },
          "metadata": {},
          "execution_count": 33
        }
      ],
      "metadata": {
        "id": "gXpM_FqruCVv",
        "colab": {
          "base_uri": "https://localhost:8080/",
          "height": 34
        },
        "outputId": "20d8b981-56ed-4458-d9d8-2f9fb5fb2b58"
      }
    },
    {
      "cell_type": "markdown",
      "source": [
        "We can create arrays of all zeros using"
      ],
      "metadata": {
        "id": "WueaRIONuTdS"
      }
    },
    {
      "cell_type": "code",
      "execution_count": 34,
      "source": [
        "zero_array = np.zeros((2, 3))\r\n",
        "zero_array"
      ],
      "outputs": [
        {
          "output_type": "execute_result",
          "data": {
            "text/plain": [
              "array([[0., 0., 0.],\n",
              "       [0., 0., 0.]])"
            ]
          },
          "metadata": {},
          "execution_count": 34
        }
      ],
      "metadata": {
        "id": "jbD8N1UauK8r",
        "colab": {
          "base_uri": "https://localhost:8080/",
          "height": 51
        },
        "outputId": "4a352f81-f0e8-4bc1-a651-760436c7d213"
      }
    },
    {
      "cell_type": "markdown",
      "source": [
        "and similarly for all ones using `ones` instead of `zeros`."
      ],
      "metadata": {
        "id": "vn5go6qoudo4"
      }
    },
    {
      "cell_type": "markdown",
      "source": [
        "We can create a range of values using"
      ],
      "metadata": {
        "id": "1kCRlhLJuvZ6"
      }
    },
    {
      "cell_type": "code",
      "execution_count": 35,
      "source": [
        "np.arange(5)"
      ],
      "outputs": [
        {
          "output_type": "execute_result",
          "data": {
            "text/plain": [
              "array([0, 1, 2, 3, 4])"
            ]
          },
          "metadata": {},
          "execution_count": 35
        }
      ],
      "metadata": {
        "id": "EcQXDeEmuxpO",
        "colab": {
          "base_uri": "https://localhost:8080/",
          "height": 34
        },
        "outputId": "5a6fac79-26e3-4012-d5f4-82844372dc58"
      }
    },
    {
      "cell_type": "markdown",
      "source": [
        "or specifying the starting point"
      ],
      "metadata": {
        "id": "ZvJECk6Iu3uF"
      }
    },
    {
      "cell_type": "code",
      "execution_count": 36,
      "source": [
        "np.arange(3, 5)"
      ],
      "outputs": [
        {
          "output_type": "execute_result",
          "data": {
            "text/plain": [
              "array([3, 4])"
            ]
          },
          "metadata": {},
          "execution_count": 36
        }
      ],
      "metadata": {
        "id": "Pk3UzL3du_f8",
        "colab": {
          "base_uri": "https://localhost:8080/",
          "height": 34
        },
        "outputId": "1fd3f3fa-63ba-4a26-9274-011574bebbd2"
      }
    },
    {
      "cell_type": "markdown",
      "source": [
        "Another useful routine is `linspace` for creating linearly spaced values in an interval. For instance, to create 10 values in `[0, 1]`, we can use"
      ],
      "metadata": {
        "id": "f1JtqFSivJKG"
      }
    },
    {
      "cell_type": "code",
      "execution_count": 37,
      "source": [
        "np.linspace(0, 1, 10)"
      ],
      "outputs": [
        {
          "output_type": "execute_result",
          "data": {
            "text/plain": [
              "array([0.        , 0.11111111, 0.22222222, 0.33333333, 0.44444444,\n",
              "       0.55555556, 0.66666667, 0.77777778, 0.88888889, 1.        ])"
            ]
          },
          "metadata": {},
          "execution_count": 37
        }
      ],
      "metadata": {
        "id": "udHHjGAHvOQM",
        "colab": {
          "base_uri": "https://localhost:8080/",
          "height": 51
        },
        "outputId": "473cec27-ac56-4dc9-984a-c1e340255a51"
      }
    },
    {
      "cell_type": "markdown",
      "source": [
        "Another important operation is `reshape`, for changing the shape of an array"
      ],
      "metadata": {
        "id": "WbcxAKobvgUT"
      }
    },
    {
      "cell_type": "code",
      "execution_count": 38,
      "source": [
        "my_array = np.array([1, 2, 3, 4, 5, 6])\r\n",
        "my_array.reshape(3, 2)"
      ],
      "outputs": [
        {
          "output_type": "execute_result",
          "data": {
            "text/plain": [
              "array([[1, 2],\n",
              "       [3, 4],\n",
              "       [5, 6]])"
            ]
          },
          "metadata": {},
          "execution_count": 38
        }
      ],
      "metadata": {
        "id": "4FPzTuDlvlLO",
        "colab": {
          "base_uri": "https://localhost:8080/",
          "height": 68
        },
        "outputId": "338648ec-11e3-436f-d0e4-6745f9cb30d3"
      }
    },
    {
      "cell_type": "markdown",
      "source": [
        "Play with these operations and make sure you understand them well."
      ],
      "metadata": {
        "id": "G-QR80_g3N9Y"
      }
    },
    {
      "cell_type": "markdown",
      "source": [
        "## Basic operations"
      ],
      "metadata": {
        "id": "f9B0iCBlmfeY"
      }
    },
    {
      "cell_type": "markdown",
      "source": [
        "In NumPy, we express computations directly over arrays. This makes the code much more succint."
      ],
      "metadata": {
        "id": "elQGgkqDxKLV"
      }
    },
    {
      "cell_type": "markdown",
      "source": [
        "Arithmetic operations can be performed directly over arrays. For instance, assuming two arrays have a compatible shape, we can add them as follows"
      ],
      "metadata": {
        "id": "hkCU1T8ixghX"
      }
    },
    {
      "cell_type": "code",
      "execution_count": 39,
      "source": [
        "array_a = np.array([1, 2, 3])\r\n",
        "array_b = np.array([4, 5, 6])\r\n",
        "array_a + array_b"
      ],
      "outputs": [
        {
          "output_type": "execute_result",
          "data": {
            "text/plain": [
              "array([5, 7, 9])"
            ]
          },
          "metadata": {},
          "execution_count": 39
        }
      ],
      "metadata": {
        "id": "4AoiRq42x5mI",
        "colab": {
          "base_uri": "https://localhost:8080/",
          "height": 34
        },
        "outputId": "d9706493-95f8-43d5-af90-21a53c13cac5"
      }
    },
    {
      "cell_type": "markdown",
      "source": [
        "Compare this with the equivalent computation using a for loop"
      ],
      "metadata": {
        "id": "SyPqME2EyD4x"
      }
    },
    {
      "cell_type": "code",
      "execution_count": 40,
      "source": [
        "array_out = np.zeros_like(array_a)\r\n",
        "for i in range(len(array_a)):\r\n",
        "  array_out[i] = array_a[i] + array_b[i]\r\n",
        "array_out"
      ],
      "outputs": [
        {
          "output_type": "execute_result",
          "data": {
            "text/plain": [
              "array([5, 7, 9])"
            ]
          },
          "metadata": {},
          "execution_count": 40
        }
      ],
      "metadata": {
        "id": "HxRFA_U2yfI-",
        "colab": {
          "base_uri": "https://localhost:8080/",
          "height": 34
        },
        "outputId": "cbd77fed-8b67-4119-aeea-7a71d92b63b6"
      }
    },
    {
      "cell_type": "markdown",
      "source": [
        "Not only this code is more verbose, it will also run much more slowly."
      ],
      "metadata": {
        "id": "i2a-apX-zlPN"
      }
    },
    {
      "cell_type": "markdown",
      "source": [
        "In NumPy, functions that operates on arrays in an element-wise fashion are called [universal functions](https://numpy.org/doc/stable/reference/ufuncs.html). For instance, this is the case of `np.sin`"
      ],
      "metadata": {
        "id": "Qdn8MwpR0wX_"
      }
    },
    {
      "cell_type": "code",
      "execution_count": 41,
      "source": [
        "np.sin(array_a)"
      ],
      "outputs": [
        {
          "output_type": "execute_result",
          "data": {
            "text/plain": [
              "array([0.84147098, 0.90929743, 0.14112001])"
            ]
          },
          "metadata": {},
          "execution_count": 41
        }
      ],
      "metadata": {
        "id": "JoanjiMu1BH5",
        "colab": {
          "base_uri": "https://localhost:8080/",
          "height": 34
        },
        "outputId": "e6b8be44-7e66-4a3f-eb57-c767c7f8b2f3"
      }
    },
    {
      "cell_type": "markdown",
      "source": [
        "Vector inner product can be performed using `np.dot`"
      ],
      "metadata": {
        "id": "jHljrPXg5h8W"
      }
    },
    {
      "cell_type": "code",
      "execution_count": 42,
      "source": [
        "np.dot(array_a, array_b)"
      ],
      "outputs": [
        {
          "output_type": "execute_result",
          "data": {
            "text/plain": [
              "32"
            ]
          },
          "metadata": {},
          "execution_count": 42
        }
      ],
      "metadata": {
        "id": "TphR8oIx5ob9",
        "colab": {
          "base_uri": "https://localhost:8080/",
          "height": 34
        },
        "outputId": "a84a8966-6b99-4a48-b422-caea4dd0ffc6"
      }
    },
    {
      "cell_type": "markdown",
      "source": [
        "When the two arguments to `np.dot` are both 2d arrays, `np.dot` becomes matrix multiplication"
      ],
      "metadata": {
        "id": "lHInOiSW50OR"
      }
    },
    {
      "cell_type": "code",
      "execution_count": 43,
      "source": [
        "array_A = np.random.rand(5, 3)\r\n",
        "array_B = np.random.randn(3, 4)\r\n",
        "np.dot(array_A, array_B)"
      ],
      "outputs": [
        {
          "output_type": "execute_result",
          "data": {
            "text/plain": [
              "array([[-1.11962721,  0.14387467,  0.06641815,  0.53519264],\n",
              "       [-0.64471247,  0.04925521, -0.1244918 ,  0.49840105],\n",
              "       [-2.06248074, -0.22671018,  0.04525787,  0.69727864],\n",
              "       [-1.14637374, -0.05463238, -0.04004811,  0.53130229],\n",
              "       [-0.98667695, -0.41554283,  0.22352267, -0.17997181]])"
            ]
          },
          "metadata": {},
          "execution_count": 43
        }
      ],
      "metadata": {
        "id": "QRbpbhPP6Up0",
        "colab": {
          "base_uri": "https://localhost:8080/",
          "height": 102
        },
        "outputId": "d020a4d4-2532-495f-fd28-766fc92b3318"
      }
    },
    {
      "cell_type": "markdown",
      "source": [
        "Matrix transpose can be done using `.transpose()` or `.T` for short"
      ],
      "metadata": {
        "id": "odVawD9m6gwv"
      }
    },
    {
      "cell_type": "code",
      "execution_count": 44,
      "source": [
        "array_A.T"
      ],
      "outputs": [
        {
          "output_type": "execute_result",
          "data": {
            "text/plain": [
              "array([[0.57331009, 0.37955866, 0.81505313, 0.51998284, 0.13476036],\n",
              "       [0.42929399, 0.04702959, 0.72864685, 0.31897343, 0.62082566],\n",
              "       [0.2173244 , 0.47899196, 0.89238857, 0.57994315, 0.22575505]])"
            ]
          },
          "metadata": {},
          "execution_count": 44
        }
      ],
      "metadata": {
        "id": "gvPe_JAO6mvF",
        "colab": {
          "base_uri": "https://localhost:8080/",
          "height": 68
        },
        "outputId": "4952000d-c255-4cd0-8b12-51bcb59ba53b"
      }
    },
    {
      "cell_type": "markdown",
      "source": [
        "## Slicing and masking"
      ],
      "metadata": {
        "id": "JlWt3oFnE_E-"
      }
    },
    {
      "cell_type": "markdown",
      "source": [
        "Like Python lists, NumPy arrays support slicing"
      ],
      "metadata": {
        "id": "e4aKKe7bFA65"
      }
    },
    {
      "cell_type": "code",
      "execution_count": 45,
      "source": [
        "np.arange(10)[5:]"
      ],
      "outputs": [
        {
          "output_type": "execute_result",
          "data": {
            "text/plain": [
              "array([5, 6, 7, 8, 9])"
            ]
          },
          "metadata": {},
          "execution_count": 45
        }
      ],
      "metadata": {
        "id": "0kPhv2xcF1TP",
        "colab": {
          "base_uri": "https://localhost:8080/",
          "height": 34
        },
        "outputId": "a7315cac-0495-44da-e497-63aa677b8d47"
      }
    },
    {
      "cell_type": "markdown",
      "source": [
        "We can also select only certain elements from the array"
      ],
      "metadata": {
        "id": "ITu2Wy4-GB2G"
      }
    },
    {
      "cell_type": "code",
      "execution_count": 46,
      "source": [
        "x = np.arange(10)\r\n",
        "mask = x >= 5\r\n",
        "x[mask]"
      ],
      "outputs": [
        {
          "output_type": "execute_result",
          "data": {
            "text/plain": [
              "array([5, 6, 7, 8, 9])"
            ]
          },
          "metadata": {},
          "execution_count": 46
        }
      ],
      "metadata": {
        "id": "8tlZzTB6GEyw",
        "colab": {
          "base_uri": "https://localhost:8080/",
          "height": 34
        },
        "outputId": "a2918cd3-f33b-48de-cd18-a3a8b1fb2fab"
      }
    },
    {
      "cell_type": "markdown",
      "source": [
        "## Exercises"
      ],
      "metadata": {
        "id": "NlGForCimjBL"
      }
    },
    {
      "cell_type": "markdown",
      "source": [
        "**Exercise 1.** Create a 3d array of shape (2, 2, 2), containing 8 values. Access individual elements and slices."
      ],
      "metadata": {
        "id": "Ur1UlSFPTu6O"
      }
    },
    {
      "cell_type": "code",
      "execution_count": null,
      "source": [],
      "outputs": [],
      "metadata": {
        "id": "v1ed4-vLUWXQ"
      }
    },
    {
      "cell_type": "markdown",
      "source": [
        "**Exercise 2.** Rewrite the relu function (see Python section) using [np.maximum](https://numpy.org/doc/stable/reference/generated/numpy.maximum.html). Check that it works on both a single value and on an array of values."
      ],
      "metadata": {
        "id": "s_ksfCDJzyxI"
      }
    },
    {
      "cell_type": "code",
      "execution_count": 47,
      "source": [
        "def relu_numpy(x):\r\n",
        "  return\r\n",
        "\r\n",
        "relu_numpy(np.array([1, -3, 2.5]))"
      ],
      "outputs": [],
      "metadata": {
        "id": "QtSTxH5Dz6f8"
      }
    },
    {
      "cell_type": "markdown",
      "source": [
        "**Exercise 3.** Rewrite the Euclidean norm of a vector (1d array) using NumPy (without for loop)"
      ],
      "metadata": {
        "id": "wggUjpyRz7fb"
      }
    },
    {
      "cell_type": "code",
      "execution_count": 48,
      "source": [
        "def euclidean_norm_numpy(x):\r\n",
        "  return\r\n",
        "\r\n",
        "my_vector = np.array([0.5, -1.2, 3.3, 4.5])\r\n",
        "euclidean_norm_numpy(my_vector)"
      ],
      "outputs": [],
      "metadata": {
        "id": "p5BLcHOD0Bhy"
      }
    },
    {
      "cell_type": "markdown",
      "source": [
        "**Exercise 4.** Write a function that computes the Euclidean norms of a matrix (2d array) in a row-wise fashion. Hint: use the `axis` argument of [np.sum](https://numpy.org/doc/stable/reference/generated/numpy.sum.html)."
      ],
      "metadata": {
        "id": "01IteVJ60Il2"
      }
    },
    {
      "cell_type": "code",
      "execution_count": 49,
      "source": [
        "def euclidean_norm_2d(X):\r\n",
        "  return\r\n",
        "\r\n",
        "my_matrix = np.array([[0.5, -1.2, 4.5],\r\n",
        "                      [-3.2, 1.9, 2.7]])\r\n",
        "# Should return an array of size 2.\r\n",
        "euclidean_norm_2d(my_matrix)"
      ],
      "outputs": [],
      "metadata": {
        "id": "at5lWRNM0SVG"
      }
    },
    {
      "cell_type": "markdown",
      "source": [
        "**Exercise 5.** Compute the mean value of the features in the [iris dataset](https://scikit-learn.org/stable/modules/generated/sklearn.datasets.load_iris.html). Hint: use the `axis` argument on [np.mean](https://numpy.org/doc/stable/reference/generated/numpy.mean.html)."
      ],
      "metadata": {
        "id": "yd1ZoByo436x"
      }
    },
    {
      "cell_type": "code",
      "execution_count": 50,
      "source": [
        "from sklearn.datasets import load_iris\r\n",
        "X, y = load_iris(return_X_y=True)\r\n",
        "\r\n",
        "# Result should be an array of size 4."
      ],
      "outputs": [],
      "metadata": {
        "id": "fYFVobkP5JK6",
        "colab": {
          "base_uri": "https://localhost:8080/",
          "height": 34
        },
        "outputId": "91504ff7-ad59-4eb7-f940-cb2e068e1b6f"
      }
    },
    {
      "cell_type": "markdown",
      "source": [
        "## Going further"
      ],
      "metadata": {
        "id": "1FDs9zX6mpoX"
      }
    },
    {
      "cell_type": "markdown",
      "source": [
        "* NumPy [reference](https://numpy.org/doc/stable/reference/)\n",
        "* SciPy [lectures](https://scipy-lectures.org/)\n",
        "*   One-hour [tutorial](https://www.youtube.com/watch?v=QUT1VHiLmmI) on Youtube \n",
        "\n"
      ],
      "metadata": {
        "id": "hFP61Iztmr9Q"
      }
    },
    {
      "cell_type": "markdown",
      "source": [
        "# Matplotlib"
      ],
      "metadata": {
        "id": "7Jt6T3kJ8I2T"
      }
    },
    {
      "cell_type": "markdown",
      "source": [
        "## Basic plots"
      ],
      "metadata": {
        "id": "kQX8TiEOALkQ"
      }
    },
    {
      "cell_type": "markdown",
      "source": [
        "Matplotlib is a plotting library for Python."
      ],
      "metadata": {
        "id": "REYwc9Va8UTg"
      }
    },
    {
      "cell_type": "markdown",
      "source": [
        "We start with a rudimentary plotting example."
      ],
      "metadata": {
        "id": "Eom7t-m6-Uzb"
      }
    },
    {
      "cell_type": "code",
      "execution_count": 51,
      "source": [
        "from matplotlib import pyplot as plt\r\n",
        "\r\n",
        "x_values = np.linspace(-3, 3, 100)\r\n",
        "\r\n",
        "plt.figure()\r\n",
        "plt.plot(x_values, np.sin(x_values), label=\"Sinusoid\")\r\n",
        "plt.xlabel(\"x\")\r\n",
        "plt.ylabel(\"sin(x)\")\r\n",
        "plt.title(\"Matplotlib example\")\r\n",
        "plt.legend(loc=\"upper left\")\r\n",
        "plt.show()"
      ],
      "outputs": [
        {
          "output_type": "display_data",
          "data": {
            "text/plain": [
              "<Figure size 432x288 with 1 Axes>"
            ],
            "image/png": "[encoded data removed]"
          },
          "metadata": {
            "needs_background": "light"
          }
        }
      ],
      "metadata": {
        "id": "g21e5Ncm927z",
        "colab": {
          "base_uri": "https://localhost:8080/",
          "height": 295
        },
        "outputId": "0bffba14-376e-4274-a33a-04cc8ce6cd64"
      }
    },
    {
      "cell_type": "markdown",
      "source": [
        "We continue with a rudimentary scatter plot example. This example displays samples from the [iris dataset](https://scikit-learn.org/stable/modules/generated/sklearn.datasets.load_iris.html) using the first two features. Colors indicate class membership (there are 3 classes)."
      ],
      "metadata": {
        "id": "ltvlLwXF-eAH"
      }
    },
    {
      "cell_type": "code",
      "execution_count": 52,
      "source": [
        "from sklearn.datasets import load_iris\r\n",
        "X, y = load_iris(return_X_y=True)\r\n",
        "\r\n",
        "X_class0 = X[y == 0]\r\n",
        "X_class1 = X[y == 1]\r\n",
        "X_class2 = X[y == 2]\r\n",
        "\r\n",
        "plt.figure()\r\n",
        "plt.scatter(X_class0[:, 0], X_class0[:, 1], label=\"Class 0\", color=\"C0\")\r\n",
        "plt.scatter(X_class1[:, 0], X_class1[:, 1], label=\"Class 1\", color=\"C1\")\r\n",
        "plt.scatter(X_class2[:, 0], X_class2[:, 1], label=\"Class 2\", color=\"C2\")\r\n",
        "plt.show()"
      ],
      "outputs": [
        {
          "output_type": "display_data",
          "data": {
            "text/plain": [
              "<Figure size 432x288 with 1 Axes>"
            ],
            "image/png": "[encoded data removed]"
          },
          "metadata": {
            "needs_background": "light"
          }
        }
      ],
      "metadata": {
        "id": "sEzcJAmy-hbK",
        "colab": {
          "base_uri": "https://localhost:8080/",
          "height": 268
        },
        "outputId": "7d965d22-d0b6-41d5-9f80-f5d6a7d7f93f"
      }
    },
    {
      "cell_type": "markdown",
      "source": [
        "We see that samples belonging to class 0 can be linearly separated from the rest using only the first two features."
      ],
      "metadata": {
        "id": "5vjln9qwAc3M"
      }
    },
    {
      "cell_type": "markdown",
      "source": [
        "## Exercises\n",
        "\n"
      ],
      "metadata": {
        "id": "uVWuIUs2AQ5a"
      }
    },
    {
      "cell_type": "markdown",
      "source": [
        "**Exercise 1.** Plot the relu and the [softplus](https://en.wikipedia.org/wiki/Rectifier_(neural_networks)#Softplus) functions on the same graph."
      ],
      "metadata": {
        "id": "1X6-g6zgCwJd"
      }
    },
    {
      "cell_type": "code",
      "execution_count": null,
      "source": [],
      "outputs": [],
      "metadata": {
        "id": "Ob6HZUX0DJ8y"
      }
    },
    {
      "cell_type": "markdown",
      "source": [
        "What is the main difference between the two functions?"
      ],
      "metadata": {
        "id": "vpRGfz0aDW3l"
      }
    },
    {
      "cell_type": "markdown",
      "source": [
        "**Exercise 2.** Repeat the same scatter plot but using the [digits dataset](https://scikit-learn.org/stable/modules/generated/sklearn.datasets.load_digits.html) instead."
      ],
      "metadata": {
        "id": "JjDeIufRAYVL"
      }
    },
    {
      "cell_type": "code",
      "execution_count": 53,
      "source": [
        "from sklearn.datasets import load_digits\r\n",
        "X, y = load_digits(return_X_y=True)"
      ],
      "outputs": [],
      "metadata": {
        "id": "-JU3TXCBBB0c"
      }
    },
    {
      "cell_type": "markdown",
      "source": [
        "Are pixel values good features for classifying samples?"
      ],
      "metadata": {
        "id": "w7wPWdmXBQA2"
      }
    },
    {
      "cell_type": "markdown",
      "source": [
        "## Going further\n",
        "\n",
        "*  Official [tutorial](https://matplotlib.org/tutorials/introductory/pyplot.html)\n",
        "* [Tutorial](https://www.youtube.com/watch?v=qErBw-R2Ybk) on Youtube"
      ],
      "metadata": {
        "id": "dYM-oV1jD3RV"
      }
    }
  ]
}